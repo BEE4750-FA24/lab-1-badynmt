{
  "cells": [
    {
      "cell_type": "markdown",
      "id": "7b030395-ff9d-488b-893a-3f2925d07a29",
      "metadata": {},
      "source": [
        "# BEE 4750 Lab 1: Julia and GitHub Basics\n",
        "\n",
        "**Name**: Badyn Milstein-Touesnard\n",
        "\n",
        "**ID**: 5286287\n",
        "\n",
        "> **Due Date**\n",
        ">\n",
        "> Wednesday, 8/28/24, 9:00pm\n",
        "\n",
        "## Setup\n",
        "\n",
        "The following code should go at the top of most Julia scripts; it will\n",
        "load the local package environment and install any needed packages. You\n",
        "will see this often and shouldn’t need to touch it."
      ]
    },
    {
      "cell_type": "code",
      "execution_count": 1,
      "id": "2",
      "metadata": {},
      "outputs": [
        {
          "name": "stderr",
          "output_type": "stream",
          "text": [
            "\u001b[32m\u001b[1m  Activating\u001b[22m\u001b[39m project at `~/BEE 4750/Labs/lab-1-badynmt`\n"
          ]
        }
      ],
      "source": [
        "import Pkg\n",
        "Pkg.activate(\".\")\n",
        "Pkg.instantiate()"
      ]
    },
    {
      "cell_type": "markdown",
      "id": "b0c0f53b-93bc-4baa-8b0e-bdb58e8ff961",
      "metadata": {},
      "source": [
        "This next cell loads packages which are required for the rest of the\n",
        "code evaluation. In this case, we only need to load the `Plots.jl`\n",
        "plotting package, but you will see others over the course of the\n",
        "semester (and can add more if desired; just make sure that you’ve [added\n",
        "the new packages to the\n",
        "environment](https://viveks.me/environmental-systems-analysis/tutorials/julia-basics.html#package-management)).\n",
        "Standard Julia practice is to load all of the needed packages at the top\n",
        "of the file.\n",
        "\n",
        "> **Warning**\n",
        ">\n",
        "> Loading packages can take a while, especially the first time! Julia\n",
        "> tries to precompile all of the packages you’re using so repeat use is\n",
        "> faster, but this can be quite slow at first."
      ]
    },
    {
      "cell_type": "code",
      "execution_count": 2,
      "id": "4",
      "metadata": {},
      "outputs": [],
      "source": [
        "using Plots"
      ]
    },
    {
      "cell_type": "markdown",
      "id": "6d2bc421-d992-4864-a390-fd6d7820f6c0",
      "metadata": {},
      "source": [
        "## Introduction\n",
        "\n",
        "### Julia\n",
        "\n",
        "Julia is an up-and-coming language, originally developed for scientific\n",
        "programming. While learning a new programming language always has its\n",
        "hiccups, the good news is that if you’ve programmed in a high-level\n",
        "language such as Python or MATLAB, most Julia concepts should look\n",
        "familiar.\n",
        "\n",
        "If you have not successfully set up Julia, follow the instructions in\n",
        "[Tools\n",
        "Setup](https://viveks.me/environmental-systems-analysis/setup.html)\n",
        "and/or ask for help.\n",
        "\n",
        "You can use other editors for this course, but our recommendation is\n",
        "[Visual Studio Code](https://code.visualstudio.com/) with the [Julia\n",
        "extension](https://marketplace.visualstudio.com/items?itemName=julialang.language-julia),\n",
        "which will make life a *lot* simpler! You should have set this up by\n",
        "following the [Tools\n",
        "Setup](https://viveks.me/environmental-systems-analysis/setup.html)\n",
        "instructions, but if not, do so now and/or ask for help.\n",
        "\n",
        "### Jupyter Notebooks\n",
        "\n",
        "Jupyter notebooks integrate text and equations in Markdown with Julia\n",
        "(or Python, or R) code. To do this, Jupyter notebooks consist of two\n",
        "types of “cells”: code cells and Markdown (text) cells.\n",
        "\n",
        "Click once on this section of text. A box will appear around this text\n",
        "(and some areas above/below it) - all of that is within this cell.\n",
        "\n",
        "Markdown is a text markup framework for formatting language that makes\n",
        "things look pretty when viewed across different platforms: web browsers,\n",
        "notebooks, and so forth. Text written in Markdown can also include\n",
        "hyperlinks, LaTeX equations, section headers, and images, among other\n",
        "features (most of [the course\n",
        "website](https://viveks.me/climate-risk-analysis) and the lecture notes\n",
        "were all written in Markdown!). [Here is a basic Markdown cheat\n",
        "sheet](https://www.markdownguide.org/cheat-sheet/).\n",
        "\n",
        "What you are looking at right now is the formatted text after the\n",
        "Markdown is processed. To see the raw Markdown, do one of:\n",
        "\n",
        "-   press `Enter` while that cell is selected, or\n",
        "-   double-click on that cell.\n",
        "\n",
        "------------------------------------------------------------------------\n",
        "\n",
        "A couple of the features you will see in this Markdown cell:\n",
        "\n",
        "-   The `---` command creates a horizontal line. This is also nice for\n",
        "    separating sections.\n",
        "-   Backticks (`` `...` ``) can be used to format and highlight code,\n",
        "    keystrokes, etc.\n",
        "-   The `#` sign is used to create a new section header; two `#` signs\n",
        "    (`##`) is used to create a new subsection header; `###` creates a\n",
        "    subsubsection, and so on.\n",
        "-   You can create a bulleted list by using the asterisk `*` or a dash\n",
        "    `-` and a space.\n",
        "-   You can create regular text by just typing as usual.\n",
        "-   You can create **bold-faced text** by wrapping it with two asterisks\n",
        "    on both sides.\n",
        "-   You can create *italicized text* by wrapping it with a single\n",
        "    asterisk on both sides.\n",
        "-   To create a new paragraph, you must include a blank line between the\n",
        "    old and new paragraphs.\n",
        "\n",
        "At this point you might be wondering how to turn this cell back into the\n",
        "fully formatted Markdown text instead of the raw Markdown you’re\n",
        "probably still looking at. You have a couple of options, depending on\n",
        "your platform, but the most consistent is to type `Shift + Enter` to\n",
        "**execute** the cell (this is also how to run code, but more on that\n",
        "later).\n",
        "\n",
        "Additionally, you will frequently need to create new cells in your\n",
        "Jupyter notebooks. How you do this will depend on how you interact with\n",
        "the notebook, but try to figure this out now.\n",
        "\n",
        "One tip is to think carefully about what bits of code should be in the\n",
        "same cell, as you typically only see output from the last command in a\n",
        "cell. For example, compare the following:"
      ]
    },
    {
      "cell_type": "code",
      "execution_count": 3,
      "id": "6",
      "metadata": {},
      "outputs": [
        {
          "data": {
            "text/plain": [
              "-0.9589242746631385"
            ]
          },
          "metadata": {},
          "output_type": "display_data"
        }
      ],
      "source": [
        "x = 5\n",
        "sin(x)"
      ]
    },
    {
      "cell_type": "markdown",
      "id": "0b56a2f1-81e8-4426-b62a-95cfc3933b92",
      "metadata": {},
      "source": [
        "with"
      ]
    },
    {
      "cell_type": "code",
      "execution_count": 4,
      "id": "8",
      "metadata": {},
      "outputs": [
        {
          "data": {
            "text/plain": [
              "5"
            ]
          },
          "metadata": {},
          "output_type": "display_data"
        }
      ],
      "source": [
        "x = 5"
      ]
    },
    {
      "cell_type": "code",
      "execution_count": 5,
      "id": "10",
      "metadata": {},
      "outputs": [
        {
          "data": {
            "text/plain": [
              "-0.9589242746631385"
            ]
          },
          "metadata": {},
          "output_type": "display_data"
        }
      ],
      "source": [
        "sin(x)"
      ]
    },
    {
      "cell_type": "markdown",
      "id": "474d541d-93e6-47e1-874f-80abd6c9d7cc",
      "metadata": {},
      "source": [
        "In Julia, you can also suppress the output of a command with a\n",
        "semi-colon:"
      ]
    },
    {
      "cell_type": "code",
      "execution_count": 6,
      "id": "12",
      "metadata": {},
      "outputs": [],
      "source": [
        "sin(x);"
      ]
    },
    {
      "cell_type": "markdown",
      "id": "e5950d08-d04e-4fc7-bed8-33e0ee9a1909",
      "metadata": {},
      "source": [
        "which can help if you want to split some code out for clarity or to\n",
        "insert some text prior to it, but don’t want to clutter the notebook\n",
        "with its output.\n",
        "\n",
        "For code cells, to execute the commands within the cell, we also press\n",
        "`Shift+Enter`.\n",
        "\n",
        "Finally, **make sure that you evaluate all of the code cells in order\n",
        "before submitting**. One bad outcome with notebooks occurs when cells\n",
        "are evaluated out of order, so fixed bugs and edits in previous cells do\n",
        "not get a chance to propagate down. You can do this with the `Run All`\n",
        "command in whichever interface you’re using to edit your notebook.\n",
        "\n",
        "### Julia Basics\n",
        "\n",
        "There are many tutorials and references for Julia, including a [basics\n",
        "overview on the class website](../tutorials/julia-basics.html). Please\n",
        "feel free to reference these as you work through any part of the course.\n",
        "\n",
        "### Formatting Math\n",
        "\n",
        "It will often be helpful to include nicely-formatted mathematics in a\n",
        "notebook. Markdown accomodates this using LaTeX syntax. A LaTeX\n",
        "cheatsheet is available on the class website, and many other guides\n",
        "exist online.\n",
        "\n",
        "Below is an example of a formatted equation: $$x = 5.$$\n",
        "\n",
        "### Looking For Help\n",
        "\n",
        "There is no shame in using Google, or other resources, for help when\n",
        "programming. There are many, many times when you can’t quite get the\n",
        "syntax to work, can’t quite figure out the right package or command to\n",
        "use, or are feeling too lazy or overwhelmed (I’m not judging either of\n",
        "those!) to dig through the documentation. Some good resources include:\n",
        "\n",
        "-   [Stack Overflow](https://stackoverflow.com/) is a treasure trove of\n",
        "    answers;\n",
        "-   The [official Julia forum](https://discourse.julialang.org/) and the\n",
        "    [Julia Subreddit](https://www.reddit.com/r/Julia/) are also very\n",
        "    useful.\n",
        "\n",
        "You are also highly encouraged to post on [Ed\n",
        "Discussion](https://us.edstem.org), though getting a response might be\n",
        "less immediate. Just be mindful that to get good answers, [you have to\n",
        "help people help you](https://stackoverflow.com/help/how-to-ask), and\n",
        "**make sure to give credit to any resources that were helpful**!\n",
        "\n",
        "## Exercises (3 points)\n",
        "\n",
        "Use your understanding of Julia syntax and the GitHub workflow to\n",
        "complete the following (hopefully short) exercises. Convert your\n",
        "completed lab assignment to a PDF and submit it to the Gradescope\n",
        "Assignment “Lab 1”.\n",
        "\n",
        "**Remember to**:\n",
        "\n",
        "-   Include a (succint but clear) writeup of the core idea underlying\n",
        "    your code, through some combination of equations, text, and\n",
        "    algorithms. As you are not required to submit your code, we will not\n",
        "    be looking at it in detail, and instead will rely on those writeups\n",
        "    to assess whether your approach is correct.\n",
        "-   If using the notebook, evaluate all of your code cells, in order\n",
        "    (using a `Run All` command). This will make sure all output is\n",
        "    visible and that the code cells were evaluated in the correct order.\n",
        "-   Tag each of the problems when you submit to Gradescope; a 10%\n",
        "    penalty will be deducted if this is not done.\n",
        "\n",
        "### Computing a Dot Product\n",
        "\n",
        "Given two numeric arrays `x` and `y`, write a function to compute their\n",
        "dot product if they have equal length, and return an error if not (this\n",
        "is useful for debugging!). Use the following code as a starting point."
      ]
    },
    {
      "cell_type": "code",
      "execution_count": 24,
      "id": "14",
      "metadata": {},
      "outputs": [
        {
          "data": {
            "text/plain": [
              "dot_product (generic function with 1 method)"
            ]
          },
          "metadata": {},
          "output_type": "display_data"
        }
      ],
      "source": [
        "function dot_product(x, y)\n",
        "    if length(x) == length(y)\n",
        "        sum(x.*y)\n",
        "    else\n",
        "        throw(DimensionMismatch(\"length of x not equal to length of y\"))\n",
        "    end\n",
        "end"
      ]
    },
    {
      "cell_type": "markdown",
      "id": "e0ce47a6-a5e8-4cd8-a776-5b04adfa6330",
      "metadata": {},
      "source": [
        "Here are some tests to make sure your code works as intended. Tests like\n",
        "these are useful to make sure everything works as intended. One reason\n",
        "to split your code up into functions is that it makes it straightforward\n",
        "to write tests to make sure each piece of your code works, which makes\n",
        "it easier to identify where errors are occuring."
      ]
    },
    {
      "cell_type": "code",
      "execution_count": 25,
      "id": "16",
      "metadata": {},
      "outputs": [
        {
          "data": {
            "text/plain": [
              "32"
            ]
          },
          "metadata": {},
          "output_type": "display_data"
        }
      ],
      "source": [
        "dot_product([1 2 3], [4 5 6])"
      ]
    },
    {
      "cell_type": "markdown",
      "id": "37f85171-25e8-4513-b57c-af25ff4378e7",
      "metadata": {},
      "source": [
        "If you know the value you should get, you can write a more formal test\n",
        "using the `@assert` macro, which is a good way to “automate” checking\n",
        "(since you get an obvious error if the code doesn’t work as desired):"
      ]
    },
    {
      "cell_type": "code",
      "execution_count": 26,
      "id": "18",
      "metadata": {},
      "outputs": [],
      "source": [
        "@assert dot_product([1 2 3], [4 5 6]) == 32"
      ]
    },
    {
      "cell_type": "markdown",
      "id": "65ccdcd8-449e-4f0c-8f4e-7953ea267f8d",
      "metadata": {},
      "source": [
        "Let’s also make sure we get an error when the dimensions of the two\n",
        "vectors don’t match:"
      ]
    },
    {
      "cell_type": "code",
      "execution_count": 27,
      "id": "20",
      "metadata": {},
      "outputs": [
        {
          "ename": "DimensionMismatch",
          "evalue": "DimensionMismatch: length of x not equal to length of y",
          "output_type": "error",
          "traceback": [
            "DimensionMismatch: length of x not equal to length of y\n",
            "\n",
            "Stacktrace:\n",
            " [1] dot_product(x::Matrix{Int64}, y::Matrix{Int64})\n",
            "   @ Main ~/BEE 4750/Labs/lab-1-badynmt/jl_notebook_cell_df34fa98e69747e1a8f8a730347b8e2f_X15sZmlsZQ==.jl:5\n",
            " [2] top-level scope\n",
            "   @ ~/BEE 4750/Labs/lab-1-badynmt/jl_notebook_cell_df34fa98e69747e1a8f8a730347b8e2f_X24sZmlsZQ==.jl:1"
          ]
        }
      ],
      "source": [
        "dot_product([1 2 3], [4 5])"
      ]
    },
    {
      "cell_type": "markdown",
      "id": "8c069a05-159a-43b4-aa3f-d1fec9a2f727",
      "metadata": {},
      "source": [
        "### Making a Plot\n",
        "\n",
        "Write a function to compute the square of an integer `x`. Evaluate this\n",
        "function for integers between $x=-5$ and $x=5$ and make a plot of the\n",
        "squared values (you can find a quick guide to making various types of\n",
        "plots\n",
        "[here](https://viveks.me/environmental-systems-analysis/tutorials/julia-plots.html)).\n",
        "Make sure to label your axes."
      ]
    },
    {
      "cell_type": "code",
      "execution_count": 49,
      "id": "22",
      "metadata": {},
      "outputs": [
        {
          "data": {
            "image/png": "[encoded data removed]",
            "image/svg+xml": [
              "<?xml version=\"1.0\" encoding=\"utf-8\"?>\n",
              "<svg xmlns=\"http://www.w3.org/2000/svg\" xmlns:xlink=\"http://www.w3.org/1999/xlink\" width=\"600\" height=\"400\" viewBox=\"0 0 2400 1600\">\n",
              "<defs>\n",
              "  <clipPath id=\"clip980\">\n",
              "    <rect x=\"0\" y=\"0\" width=\"2400\" height=\"1600\"/>\n",
              "  </clipPath>\n",
              "</defs>\n",
              "<path clip-path=\"url(#clip980)\" d=\"M0 1600 L2400 1600 L2400 8.88178e-14 L0 8.88178e-14  Z\" fill=\"#ffffff\" fill-rule=\"evenodd\" fill-opacity=\"1\"/>\n",
              "<defs>\n",
              "  <clipPath id=\"clip981\">\n",
              "    <rect x=\"480\" y=\"0\" width=\"1681\" height=\"1600\"/>\n",
              "  </clipPath>\n",
              "</defs>\n",
              "<path clip-path=\"url(#clip980)\" d=\"M203.964 1423.18 L2352.76 1423.18 L2352.76 47.2441 L203.964 47.2441  Z\" fill=\"#ffffff\" fill-rule=\"evenodd\" fill-opacity=\"1\"/>\n",
              "<defs>\n",
              "  <clipPath id=\"clip982\">\n",
              "    <rect x=\"203\" y=\"47\" width=\"2150\" height=\"1377\"/>\n",
              "  </clipPath>\n",
              "</defs>\n",
              "<polyline clip-path=\"url(#clip982)\" style=\"stroke:#000000; stroke-linecap:round; stroke-linejoin:round; stroke-width:2; stroke-opacity:0.1; fill:none\" points=\"467.495,1423.18 467.495,47.2441 \"/>\n",
              "<polyline clip-path=\"url(#clip982)\" style=\"stroke:#000000; stroke-linecap:round; stroke-linejoin:round; stroke-width:2; stroke-opacity:0.1; fill:none\" points=\"872.927,1423.18 872.927,47.2441 \"/>\n",
              "<polyline clip-path=\"url(#clip982)\" style=\"stroke:#000000; stroke-linecap:round; stroke-linejoin:round; stroke-width:2; stroke-opacity:0.1; fill:none\" points=\"1278.36,1423.18 1278.36,47.2441 \"/>\n",
              "<polyline clip-path=\"url(#clip982)\" style=\"stroke:#000000; stroke-linecap:round; stroke-linejoin:round; stroke-width:2; stroke-opacity:0.1; fill:none\" points=\"1683.79,1423.18 1683.79,47.2441 \"/>\n",
              "<polyline clip-path=\"url(#clip982)\" style=\"stroke:#000000; stroke-linecap:round; stroke-linejoin:round; stroke-width:2; stroke-opacity:0.1; fill:none\" points=\"2089.22,1423.18 2089.22,47.2441 \"/>\n",
              "<polyline clip-path=\"url(#clip980)\" style=\"stroke:#000000; stroke-linecap:round; stroke-linejoin:round; stroke-width:4; stroke-opacity:1; fill:none\" points=\"203.964,1423.18 2352.76,1423.18 \"/>\n",
              "<polyline clip-path=\"url(#clip980)\" style=\"stroke:#000000; stroke-linecap:round; stroke-linejoin:round; stroke-width:4; stroke-opacity:1; fill:none\" points=\"467.495,1423.18 467.495,1404.28 \"/>\n",
              "<polyline clip-path=\"url(#clip980)\" style=\"stroke:#000000; stroke-linecap:round; stroke-linejoin:round; stroke-width:4; stroke-opacity:1; fill:none\" points=\"872.927,1423.18 872.927,1404.28 \"/>\n",
              "<polyline clip-path=\"url(#clip980)\" style=\"stroke:#000000; stroke-linecap:round; stroke-linejoin:round; stroke-width:4; stroke-opacity:1; fill:none\" points=\"1278.36,1423.18 1278.36,1404.28 \"/>\n",
              "<polyline clip-path=\"url(#clip980)\" style=\"stroke:#000000; stroke-linecap:round; stroke-linejoin:round; stroke-width:4; stroke-opacity:1; fill:none\" points=\"1683.79,1423.18 1683.79,1404.28 \"/>\n",
              "<polyline clip-path=\"url(#clip980)\" style=\"stroke:#000000; stroke-linecap:round; stroke-linejoin:round; stroke-width:4; stroke-opacity:1; fill:none\" points=\"2089.22,1423.18 2089.22,1404.28 \"/>\n",
              "<path clip-path=\"url(#clip980)\" d=\"M462.148 1481.64 L478.467 1481.64 L478.467 1485.58 L456.523 1485.58 L456.523 1481.64 Q459.185 1478.89 463.768 1474.26 Q468.374 1469.61 469.555 1468.27 Q471.8 1465.74 472.68 1464.01 Q473.583 1462.25 473.583 1460.56 Q473.583 1457.8 471.638 1456.07 Q469.717 1454.33 466.615 1454.33 Q464.416 1454.33 461.962 1455.09 Q459.532 1455.86 456.754 1457.41 L456.754 1452.69 Q459.578 1451.55 462.032 1450.97 Q464.485 1450.39 466.522 1450.39 Q471.893 1450.39 475.087 1453.08 Q478.282 1455.77 478.282 1460.26 Q478.282 1462.39 477.472 1464.31 Q476.684 1466.2 474.578 1468.8 Q473.999 1469.47 470.897 1472.69 Q467.796 1475.88 462.148 1481.64 Z\" fill=\"#000000\" fill-rule=\"nonzero\" fill-opacity=\"1\" /><path clip-path=\"url(#clip980)\" d=\"M875.936 1455.09 L864.131 1473.54 L875.936 1473.54 L875.936 1455.09 M874.71 1451.02 L880.589 1451.02 L880.589 1473.54 L885.52 1473.54 L885.52 1477.43 L880.589 1477.43 L880.589 1485.58 L875.936 1485.58 L875.936 1477.43 L860.335 1477.43 L860.335 1472.92 L874.71 1451.02 Z\" fill=\"#000000\" fill-rule=\"nonzero\" fill-opacity=\"1\" /><path clip-path=\"url(#clip980)\" d=\"M1278.76 1466.44 Q1275.62 1466.44 1273.76 1468.59 Q1271.94 1470.74 1271.94 1474.49 Q1271.94 1478.22 1273.76 1480.39 Q1275.62 1482.55 1278.76 1482.55 Q1281.91 1482.55 1283.74 1480.39 Q1285.59 1478.22 1285.59 1474.49 Q1285.59 1470.74 1283.74 1468.59 Q1281.91 1466.44 1278.76 1466.44 M1288.05 1451.78 L1288.05 1456.04 Q1286.29 1455.21 1284.48 1454.77 Q1282.7 1454.33 1280.94 1454.33 Q1276.31 1454.33 1273.86 1457.45 Q1271.43 1460.58 1271.08 1466.9 Q1272.45 1464.89 1274.51 1463.82 Q1276.57 1462.73 1279.04 1462.73 Q1284.25 1462.73 1287.26 1465.9 Q1290.29 1469.05 1290.29 1474.49 Q1290.29 1479.82 1287.14 1483.03 Q1284 1486.25 1278.76 1486.25 Q1272.77 1486.25 1269.6 1481.67 Q1266.43 1477.06 1266.43 1468.33 Q1266.43 1460.14 1270.32 1455.28 Q1274.2 1450.39 1280.76 1450.39 Q1282.51 1450.39 1284.3 1450.74 Q1286.1 1451.09 1288.05 1451.78 Z\" fill=\"#000000\" fill-rule=\"nonzero\" fill-opacity=\"1\" /><path clip-path=\"url(#clip980)\" d=\"M1683.79 1469.17 Q1680.46 1469.17 1678.54 1470.95 Q1676.64 1472.73 1676.64 1475.86 Q1676.64 1478.98 1678.54 1480.77 Q1680.46 1482.55 1683.79 1482.55 Q1687.13 1482.55 1689.05 1480.77 Q1690.97 1478.96 1690.97 1475.86 Q1690.97 1472.73 1689.05 1470.95 Q1687.15 1469.17 1683.79 1469.17 M1679.12 1467.18 Q1676.11 1466.44 1674.42 1464.38 Q1672.75 1462.32 1672.75 1459.35 Q1672.75 1455.21 1675.69 1452.8 Q1678.65 1450.39 1683.79 1450.39 Q1688.95 1450.39 1691.89 1452.8 Q1694.83 1455.21 1694.83 1459.35 Q1694.83 1462.32 1693.14 1464.38 Q1691.48 1466.44 1688.49 1467.18 Q1691.87 1467.96 1693.75 1470.26 Q1695.64 1472.55 1695.64 1475.86 Q1695.64 1480.88 1692.57 1483.57 Q1689.51 1486.25 1683.79 1486.25 Q1678.07 1486.25 1675 1483.57 Q1671.94 1480.88 1671.94 1475.86 Q1671.94 1472.55 1673.84 1470.26 Q1675.74 1467.96 1679.12 1467.18 M1677.4 1459.79 Q1677.4 1462.48 1679.07 1463.98 Q1680.76 1465.49 1683.79 1465.49 Q1686.8 1465.49 1688.49 1463.98 Q1690.2 1462.48 1690.2 1459.79 Q1690.2 1457.11 1688.49 1455.6 Q1686.8 1454.1 1683.79 1454.1 Q1680.76 1454.1 1679.07 1455.6 Q1677.4 1457.11 1677.4 1459.79 Z\" fill=\"#000000\" fill-rule=\"nonzero\" fill-opacity=\"1\" /><path clip-path=\"url(#clip980)\" d=\"M2063.91 1481.64 L2071.55 1481.64 L2071.55 1455.28 L2063.24 1456.95 L2063.24 1452.69 L2071.5 1451.02 L2076.18 1451.02 L2076.18 1481.64 L2083.82 1481.64 L2083.82 1485.58 L2063.91 1485.58 L2063.91 1481.64 Z\" fill=\"#000000\" fill-rule=\"nonzero\" fill-opacity=\"1\" /><path clip-path=\"url(#clip980)\" d=\"M2103.26 1454.1 Q2099.65 1454.1 2097.82 1457.66 Q2096.02 1461.2 2096.02 1468.33 Q2096.02 1475.44 2097.82 1479.01 Q2099.65 1482.55 2103.26 1482.55 Q2106.9 1482.55 2108.7 1479.01 Q2110.53 1475.44 2110.53 1468.33 Q2110.53 1461.2 2108.7 1457.66 Q2106.9 1454.1 2103.26 1454.1 M2103.26 1450.39 Q2109.07 1450.39 2112.13 1455 Q2115.21 1459.58 2115.21 1468.33 Q2115.21 1477.06 2112.13 1481.67 Q2109.07 1486.25 2103.26 1486.25 Q2097.45 1486.25 2094.38 1481.67 Q2091.32 1477.06 2091.32 1468.33 Q2091.32 1459.58 2094.38 1455 Q2097.45 1450.39 2103.26 1450.39 Z\" fill=\"#000000\" fill-rule=\"nonzero\" fill-opacity=\"1\" /><path clip-path=\"url(#clip980)\" d=\"M1164.32 1520.52 L1170.75 1520.52 L1170.75 1568.04 L1164.32 1568.04 L1164.32 1520.52 Z\" fill=\"#000000\" fill-rule=\"nonzero\" fill-opacity=\"1\" /><path clip-path=\"url(#clip980)\" d=\"M1212.92 1546.53 L1212.92 1568.04 L1207.06 1568.04 L1207.06 1546.72 Q1207.06 1541.66 1205.09 1539.14 Q1203.12 1536.63 1199.17 1536.63 Q1194.43 1536.63 1191.69 1539.65 Q1188.95 1542.68 1188.95 1547.9 L1188.95 1568.04 L1183.07 1568.04 L1183.07 1532.4 L1188.95 1532.4 L1188.95 1537.93 Q1191.05 1534.72 1193.89 1533.13 Q1196.75 1531.54 1200.48 1531.54 Q1206.62 1531.54 1209.77 1535.36 Q1212.92 1539.14 1212.92 1546.53 Z\" fill=\"#000000\" fill-rule=\"nonzero\" fill-opacity=\"1\" /><path clip-path=\"url(#clip980)\" d=\"M1230.39 1522.27 L1230.39 1532.4 L1242.46 1532.4 L1242.46 1536.95 L1230.39 1536.95 L1230.39 1556.3 Q1230.39 1560.66 1231.57 1561.9 Q1232.78 1563.14 1236.44 1563.14 L1242.46 1563.14 L1242.46 1568.04 L1236.44 1568.04 Q1229.66 1568.04 1227.08 1565.53 Q1224.51 1562.98 1224.51 1556.3 L1224.51 1536.95 L1220.21 1536.95 L1220.21 1532.4 L1224.51 1532.4 L1224.51 1522.27 L1230.39 1522.27 Z\" fill=\"#000000\" fill-rule=\"nonzero\" fill-opacity=\"1\" /><path clip-path=\"url(#clip980)\" d=\"M1280.65 1548.76 L1280.65 1551.62 L1253.72 1551.62 Q1254.11 1557.67 1257.35 1560.85 Q1260.63 1564 1266.46 1564 Q1269.83 1564 1272.98 1563.17 Q1276.16 1562.35 1279.28 1560.69 L1279.28 1566.23 Q1276.13 1567.57 1272.82 1568.27 Q1269.51 1568.97 1266.11 1568.97 Q1257.58 1568.97 1252.58 1564 Q1247.61 1559.04 1247.61 1550.57 Q1247.61 1541.82 1252.32 1536.69 Q1257.07 1531.54 1265.09 1531.54 Q1272.28 1531.54 1276.45 1536.18 Q1280.65 1540.8 1280.65 1548.76 M1274.79 1547.04 Q1274.73 1542.23 1272.09 1539.37 Q1269.48 1536.5 1265.15 1536.5 Q1260.25 1536.5 1257.29 1539.27 Q1254.36 1542.04 1253.92 1547.07 L1274.79 1547.04 Z\" fill=\"#000000\" fill-rule=\"nonzero\" fill-opacity=\"1\" /><path clip-path=\"url(#clip980)\" d=\"M1313.72 1549.81 Q1313.72 1543.44 1311.08 1539.94 Q1308.47 1536.44 1303.73 1536.44 Q1299.02 1536.44 1296.37 1539.94 Q1293.76 1543.44 1293.76 1549.81 Q1293.76 1556.14 1296.37 1559.64 Q1299.02 1563.14 1303.73 1563.14 Q1308.47 1563.14 1311.08 1559.64 Q1313.72 1556.14 1313.72 1549.81 M1319.58 1563.62 Q1319.58 1572.72 1315.54 1577.15 Q1311.49 1581.6 1303.15 1581.6 Q1300.07 1581.6 1297.33 1581.13 Q1294.59 1580.68 1292.01 1579.72 L1292.01 1574.03 Q1294.59 1575.43 1297.11 1576.1 Q1299.62 1576.76 1302.23 1576.76 Q1307.99 1576.76 1310.86 1573.74 Q1313.72 1570.75 1313.72 1564.67 L1313.72 1561.77 Q1311.91 1564.92 1309.07 1566.48 Q1306.24 1568.04 1302.29 1568.04 Q1295.74 1568.04 1291.73 1563.05 Q1287.72 1558.05 1287.72 1549.81 Q1287.72 1541.53 1291.73 1536.53 Q1295.74 1531.54 1302.29 1531.54 Q1306.24 1531.54 1309.07 1533.1 Q1311.91 1534.66 1313.72 1537.81 L1313.72 1532.4 L1319.58 1532.4 L1319.58 1563.62 Z\" fill=\"#000000\" fill-rule=\"nonzero\" fill-opacity=\"1\" /><path clip-path=\"url(#clip980)\" d=\"M1362.13 1548.76 L1362.13 1551.62 L1335.21 1551.62 Q1335.59 1557.67 1338.83 1560.85 Q1342.11 1564 1347.94 1564 Q1351.31 1564 1354.46 1563.17 Q1357.64 1562.35 1360.76 1560.69 L1360.76 1566.23 Q1357.61 1567.57 1354.3 1568.27 Q1350.99 1568.97 1347.59 1568.97 Q1339.06 1568.97 1334.06 1564 Q1329.09 1559.04 1329.09 1550.57 Q1329.09 1541.82 1333.81 1536.69 Q1338.55 1531.54 1346.57 1531.54 Q1353.76 1531.54 1357.93 1536.18 Q1362.13 1540.8 1362.13 1548.76 M1356.28 1547.04 Q1356.21 1542.23 1353.57 1539.37 Q1350.96 1536.5 1346.63 1536.5 Q1341.73 1536.5 1338.77 1539.27 Q1335.84 1542.04 1335.4 1547.07 L1356.28 1547.04 Z\" fill=\"#000000\" fill-rule=\"nonzero\" fill-opacity=\"1\" /><path clip-path=\"url(#clip980)\" d=\"M1392.4 1537.87 Q1391.41 1537.3 1390.24 1537.04 Q1389.09 1536.76 1387.69 1536.76 Q1382.73 1536.76 1380.05 1540 Q1377.41 1543.22 1377.41 1549.27 L1377.41 1568.04 L1371.52 1568.04 L1371.52 1532.4 L1377.41 1532.4 L1377.41 1537.93 Q1379.26 1534.69 1382.22 1533.13 Q1385.18 1531.54 1389.41 1531.54 Q1390.01 1531.54 1390.75 1531.63 Q1391.48 1531.7 1392.37 1531.85 L1392.4 1537.87 Z\" fill=\"#000000\" fill-rule=\"nonzero\" fill-opacity=\"1\" /><polyline clip-path=\"url(#clip982)\" style=\"stroke:#000000; stroke-linecap:round; stroke-linejoin:round; stroke-width:2; stroke-opacity:0.1; fill:none\" points=\"203.964,1384.24 2352.76,1384.24 \"/>\n",
              "<polyline clip-path=\"url(#clip982)\" style=\"stroke:#000000; stroke-linecap:round; stroke-linejoin:round; stroke-width:2; stroke-opacity:0.1; fill:none\" points=\"203.964,1124.63 2352.76,1124.63 \"/>\n",
              "<polyline clip-path=\"url(#clip982)\" style=\"stroke:#000000; stroke-linecap:round; stroke-linejoin:round; stroke-width:2; stroke-opacity:0.1; fill:none\" points=\"203.964,865.017 2352.76,865.017 \"/>\n",
              "<polyline clip-path=\"url(#clip982)\" style=\"stroke:#000000; stroke-linecap:round; stroke-linejoin:round; stroke-width:2; stroke-opacity:0.1; fill:none\" points=\"203.964,605.407 2352.76,605.407 \"/>\n",
              "<polyline clip-path=\"url(#clip982)\" style=\"stroke:#000000; stroke-linecap:round; stroke-linejoin:round; stroke-width:2; stroke-opacity:0.1; fill:none\" points=\"203.964,345.796 2352.76,345.796 \"/>\n",
              "<polyline clip-path=\"url(#clip982)\" style=\"stroke:#000000; stroke-linecap:round; stroke-linejoin:round; stroke-width:2; stroke-opacity:0.1; fill:none\" points=\"203.964,86.1857 2352.76,86.1857 \"/>\n",
              "<polyline clip-path=\"url(#clip980)\" style=\"stroke:#000000; stroke-linecap:round; stroke-linejoin:round; stroke-width:4; stroke-opacity:1; fill:none\" points=\"203.964,1423.18 203.964,47.2441 \"/>\n",
              "<polyline clip-path=\"url(#clip980)\" style=\"stroke:#000000; stroke-linecap:round; stroke-linejoin:round; stroke-width:4; stroke-opacity:1; fill:none\" points=\"203.964,1384.24 222.861,1384.24 \"/>\n",
              "<polyline clip-path=\"url(#clip980)\" style=\"stroke:#000000; stroke-linecap:round; stroke-linejoin:round; stroke-width:4; stroke-opacity:1; fill:none\" points=\"203.964,1124.63 222.861,1124.63 \"/>\n",
              "<polyline clip-path=\"url(#clip980)\" style=\"stroke:#000000; stroke-linecap:round; stroke-linejoin:round; stroke-width:4; stroke-opacity:1; fill:none\" points=\"203.964,865.017 222.861,865.017 \"/>\n",
              "<polyline clip-path=\"url(#clip980)\" style=\"stroke:#000000; stroke-linecap:round; stroke-linejoin:round; stroke-width:4; stroke-opacity:1; fill:none\" points=\"203.964,605.407 222.861,605.407 \"/>\n",
              "<polyline clip-path=\"url(#clip980)\" style=\"stroke:#000000; stroke-linecap:round; stroke-linejoin:round; stroke-width:4; stroke-opacity:1; fill:none\" points=\"203.964,345.796 222.861,345.796 \"/>\n",
              "<polyline clip-path=\"url(#clip980)\" style=\"stroke:#000000; stroke-linecap:round; stroke-linejoin:round; stroke-width:4; stroke-opacity:1; fill:none\" points=\"203.964,86.1857 222.861,86.1857 \"/>\n",
              "<path clip-path=\"url(#clip980)\" d=\"M156.019 1370.04 Q152.408 1370.04 150.579 1373.6 Q148.774 1377.14 148.774 1384.27 Q148.774 1391.38 150.579 1394.94 Q152.408 1398.49 156.019 1398.49 Q159.653 1398.49 161.459 1394.94 Q163.288 1391.38 163.288 1384.27 Q163.288 1377.14 161.459 1373.6 Q159.653 1370.04 156.019 1370.04 M156.019 1366.33 Q161.829 1366.33 164.885 1370.94 Q167.964 1375.52 167.964 1384.27 Q167.964 1393 164.885 1397.61 Q161.829 1402.19 156.019 1402.19 Q150.209 1402.19 147.13 1397.61 Q144.075 1393 144.075 1384.27 Q144.075 1375.52 147.13 1370.94 Q150.209 1366.33 156.019 1366.33 Z\" fill=\"#000000\" fill-rule=\"nonzero\" fill-opacity=\"1\" /><path clip-path=\"url(#clip980)\" d=\"M147.061 1107.35 L165.417 1107.35 L165.417 1111.28 L151.343 1111.28 L151.343 1119.76 Q152.362 1119.41 153.38 1119.25 Q154.399 1119.06 155.417 1119.06 Q161.204 1119.06 164.584 1122.23 Q167.964 1125.4 167.964 1130.82 Q167.964 1136.4 164.491 1139.5 Q161.019 1142.58 154.7 1142.58 Q152.524 1142.58 150.255 1142.21 Q148.01 1141.84 145.603 1141.1 L145.603 1136.4 Q147.686 1137.53 149.908 1138.09 Q152.13 1138.64 154.607 1138.64 Q158.612 1138.64 160.95 1136.54 Q163.288 1134.43 163.288 1130.82 Q163.288 1127.21 160.95 1125.1 Q158.612 1123 154.607 1123 Q152.732 1123 150.857 1123.41 Q149.005 1123.83 147.061 1124.71 L147.061 1107.35 Z\" fill=\"#000000\" fill-rule=\"nonzero\" fill-opacity=\"1\" /><path clip-path=\"url(#clip980)\" d=\"M116.668 878.362 L124.306 878.362 L124.306 851.996 L115.996 853.663 L115.996 849.404 L124.26 847.737 L128.936 847.737 L128.936 878.362 L136.575 878.362 L136.575 882.297 L116.668 882.297 L116.668 878.362 Z\" fill=\"#000000\" fill-rule=\"nonzero\" fill-opacity=\"1\" /><path clip-path=\"url(#clip980)\" d=\"M156.019 850.816 Q152.408 850.816 150.579 854.381 Q148.774 857.922 148.774 865.052 Q148.774 872.158 150.579 875.723 Q152.408 879.265 156.019 879.265 Q159.653 879.265 161.459 875.723 Q163.288 872.158 163.288 865.052 Q163.288 857.922 161.459 854.381 Q159.653 850.816 156.019 850.816 M156.019 847.112 Q161.829 847.112 164.885 851.719 Q167.964 856.302 167.964 865.052 Q167.964 873.779 164.885 878.385 Q161.829 882.969 156.019 882.969 Q150.209 882.969 147.13 878.385 Q144.075 873.779 144.075 865.052 Q144.075 856.302 147.13 851.719 Q150.209 847.112 156.019 847.112 Z\" fill=\"#000000\" fill-rule=\"nonzero\" fill-opacity=\"1\" /><path clip-path=\"url(#clip980)\" d=\"M117.663 618.752 L125.302 618.752 L125.302 592.386 L116.992 594.053 L116.992 589.793 L125.255 588.127 L129.931 588.127 L129.931 618.752 L137.57 618.752 L137.57 622.687 L117.663 622.687 L117.663 618.752 Z\" fill=\"#000000\" fill-rule=\"nonzero\" fill-opacity=\"1\" /><path clip-path=\"url(#clip980)\" d=\"M147.061 588.127 L165.417 588.127 L165.417 592.062 L151.343 592.062 L151.343 600.534 Q152.362 600.187 153.38 600.025 Q154.399 599.84 155.417 599.84 Q161.204 599.84 164.584 603.011 Q167.964 606.182 167.964 611.599 Q167.964 617.177 164.491 620.279 Q161.019 623.358 154.7 623.358 Q152.524 623.358 150.255 622.988 Q148.01 622.617 145.603 621.877 L145.603 617.177 Q147.686 618.312 149.908 618.867 Q152.13 619.423 154.607 619.423 Q158.612 619.423 160.95 617.316 Q163.288 615.21 163.288 611.599 Q163.288 607.988 160.95 605.881 Q158.612 603.775 154.607 603.775 Q152.732 603.775 150.857 604.191 Q149.005 604.608 147.061 605.488 L147.061 588.127 Z\" fill=\"#000000\" fill-rule=\"nonzero\" fill-opacity=\"1\" /><path clip-path=\"url(#clip980)\" d=\"M119.885 359.141 L136.204 359.141 L136.204 363.076 L114.26 363.076 L114.26 359.141 Q116.922 356.386 121.505 351.757 Q126.112 347.104 127.292 345.761 Q129.538 343.238 130.417 341.502 Q131.32 339.743 131.32 338.053 Q131.32 335.299 129.376 333.562 Q127.455 331.826 124.353 331.826 Q122.154 331.826 119.7 332.59 Q117.269 333.354 114.492 334.905 L114.492 330.183 Q117.316 329.049 119.769 328.47 Q122.223 327.891 124.26 327.891 Q129.63 327.891 132.825 330.576 Q136.019 333.262 136.019 337.752 Q136.019 339.882 135.209 341.803 Q134.422 343.701 132.316 346.294 Q131.737 346.965 128.635 350.183 Q125.533 353.377 119.885 359.141 Z\" fill=\"#000000\" fill-rule=\"nonzero\" fill-opacity=\"1\" /><path clip-path=\"url(#clip980)\" d=\"M156.019 331.595 Q152.408 331.595 150.579 335.16 Q148.774 338.701 148.774 345.831 Q148.774 352.937 150.579 356.502 Q152.408 360.044 156.019 360.044 Q159.653 360.044 161.459 356.502 Q163.288 352.937 163.288 345.831 Q163.288 338.701 161.459 335.16 Q159.653 331.595 156.019 331.595 M156.019 327.891 Q161.829 327.891 164.885 332.498 Q167.964 337.081 167.964 345.831 Q167.964 354.558 164.885 359.164 Q161.829 363.747 156.019 363.747 Q150.209 363.747 147.13 359.164 Q144.075 354.558 144.075 345.831 Q144.075 337.081 147.13 332.498 Q150.209 327.891 156.019 327.891 Z\" fill=\"#000000\" fill-rule=\"nonzero\" fill-opacity=\"1\" /><path clip-path=\"url(#clip980)\" d=\"M120.88 99.5305 L137.2 99.5305 L137.2 103.466 L115.256 103.466 L115.256 99.5305 Q117.918 96.7759 122.501 92.1463 Q127.107 87.4935 128.288 86.151 Q130.533 83.6278 131.413 81.8917 Q132.316 80.1325 132.316 78.4427 Q132.316 75.688 130.371 73.9519 Q128.45 72.2158 125.348 72.2158 Q123.149 72.2158 120.695 72.9797 Q118.265 73.7436 115.487 75.2945 L115.487 70.5723 Q118.311 69.4381 120.765 68.8594 Q123.218 68.2807 125.255 68.2807 Q130.626 68.2807 133.82 70.9658 Q137.015 73.651 137.015 78.1417 Q137.015 80.2714 136.204 82.1926 Q135.417 84.0908 133.311 86.6834 Q132.732 87.3546 129.63 90.5722 Q126.529 93.7667 120.88 99.5305 Z\" fill=\"#000000\" fill-rule=\"nonzero\" fill-opacity=\"1\" /><path clip-path=\"url(#clip980)\" d=\"M147.061 68.9057 L165.417 68.9057 L165.417 72.8408 L151.343 72.8408 L151.343 81.313 Q152.362 80.9658 153.38 80.8038 Q154.399 80.6186 155.417 80.6186 Q161.204 80.6186 164.584 83.7899 Q167.964 86.9611 167.964 92.3778 Q167.964 97.9564 164.491 101.058 Q161.019 104.137 154.7 104.137 Q152.524 104.137 150.255 103.767 Q148.01 103.396 145.603 102.655 L145.603 97.9564 Q147.686 99.0907 149.908 99.6462 Q152.13 100.202 154.607 100.202 Q158.612 100.202 160.95 98.0953 Q163.288 95.9889 163.288 92.3778 Q163.288 88.7667 160.95 86.6602 Q158.612 84.5537 154.607 84.5537 Q152.732 84.5537 150.857 84.9704 Q149.005 85.3871 147.061 86.2667 L147.061 68.9057 Z\" fill=\"#000000\" fill-rule=\"nonzero\" fill-opacity=\"1\" /><path clip-path=\"url(#clip980)\" d=\"M64.0042 1117.22 L16.4842 1135.36 L16.4842 1128.64 L56.4926 1113.59 L16.4842 1098.5 L16.4842 1091.82 L64.0042 1109.93 L64.0042 1117.22 Z\" fill=\"#000000\" fill-rule=\"nonzero\" fill-opacity=\"1\" /><path clip-path=\"url(#clip980)\" d=\"M46.0847 1073.99 Q46.0847 1081.09 47.7079 1083.83 Q49.3312 1086.57 53.2461 1086.57 Q56.3653 1086.57 58.2114 1084.53 Q60.0256 1082.46 60.0256 1078.93 Q60.0256 1074.06 56.5881 1071.13 Q53.1188 1068.17 47.3897 1068.17 L46.0847 1068.17 L46.0847 1073.99 M43.6657 1062.31 L64.0042 1062.31 L64.0042 1068.17 L58.5933 1068.17 Q61.8398 1070.18 63.3994 1073.17 Q64.9272 1076.16 64.9272 1080.49 Q64.9272 1085.96 61.8716 1089.21 Q58.7843 1092.42 53.6281 1092.42 Q47.6125 1092.42 44.5569 1088.41 Q41.5014 1084.37 41.5014 1076.38 L41.5014 1068.17 L40.9285 1068.17 Q36.8862 1068.17 34.6901 1070.84 Q32.4621 1073.49 32.4621 1078.29 Q32.4621 1081.35 33.1941 1084.24 Q33.9262 1087.14 35.3903 1089.81 L29.9795 1089.81 Q28.7381 1086.6 28.1334 1083.58 Q27.4968 1080.55 27.4968 1077.69 Q27.4968 1069.95 31.5072 1066.13 Q35.5176 1062.31 43.6657 1062.31 Z\" fill=\"#000000\" fill-rule=\"nonzero\" fill-opacity=\"1\" /><path clip-path=\"url(#clip980)\" d=\"M14.479 1050.25 L14.479 1044.39 L64.0042 1044.39 L64.0042 1050.25 L14.479 1050.25 Z\" fill=\"#000000\" fill-rule=\"nonzero\" fill-opacity=\"1\" /><path clip-path=\"url(#clip980)\" d=\"M49.9359 1032.75 L28.3562 1032.75 L28.3562 1026.89 L49.7131 1026.89 Q54.7739 1026.89 57.3202 1024.92 Q59.8346 1022.94 59.8346 1019 Q59.8346 1014.25 56.8109 1011.52 Q53.7872 1008.75 48.5673 1008.75 L28.3562 1008.75 L28.3562 1002.89 L64.0042 1002.89 L64.0042 1008.75 L58.5296 1008.75 Q61.7762 1010.88 63.3676 1013.71 Q64.9272 1016.51 64.9272 1020.24 Q64.9272 1026.38 61.1078 1029.56 Q57.2883 1032.75 49.9359 1032.75 M27.4968 1018.01 L27.4968 1018.01 Z\" fill=\"#000000\" fill-rule=\"nonzero\" fill-opacity=\"1\" /><path clip-path=\"url(#clip980)\" d=\"M44.7161 960.335 L47.5806 960.335 L47.5806 987.262 Q53.6281 986.88 56.8109 983.634 Q59.9619 980.355 59.9619 974.531 Q59.9619 971.157 59.1344 968.006 Q58.3069 964.823 56.6518 961.704 L62.1899 961.704 Q63.5267 964.855 64.227 968.165 Q64.9272 971.475 64.9272 974.881 Q64.9272 983.411 59.9619 988.408 Q54.9967 993.373 46.5303 993.373 Q37.7774 993.373 32.6531 988.663 Q27.4968 983.92 27.4968 975.899 Q27.4968 968.706 32.1438 964.537 Q36.7589 960.335 44.7161 960.335 M42.9973 966.192 Q38.1912 966.255 35.3266 968.897 Q32.4621 971.507 32.4621 975.836 Q32.4621 980.737 35.2312 983.697 Q38.0002 986.626 43.0292 987.071 L42.9973 966.192 Z\" fill=\"#000000\" fill-rule=\"nonzero\" fill-opacity=\"1\" /><path clip-path=\"url(#clip980)\" d=\"M32.4621 916.189 Q32.4621 920.9 36.1542 923.637 Q39.8145 926.374 46.212 926.374 Q52.6095 926.374 56.3017 923.669 Q59.9619 920.931 59.9619 916.189 Q59.9619 911.51 56.2698 908.773 Q52.5777 906.036 46.212 906.036 Q39.8781 906.036 36.186 908.773 Q32.4621 911.51 32.4621 916.189 M27.4968 916.189 Q27.4968 908.55 32.4621 904.19 Q37.4273 899.829 46.212 899.829 Q54.9649 899.829 59.9619 904.19 Q64.9272 908.55 64.9272 916.189 Q64.9272 923.86 59.9619 928.22 Q54.9649 932.549 46.212 932.549 Q37.4273 932.549 32.4621 928.22 Q27.4968 923.86 27.4968 916.189 Z\" fill=\"#000000\" fill-rule=\"nonzero\" fill-opacity=\"1\" /><path clip-path=\"url(#clip980)\" d=\"M14.479 872.075 L19.3487 872.075 L19.3487 877.676 Q19.3487 880.828 20.6219 882.069 Q21.895 883.278 25.2052 883.278 L28.3562 883.278 L28.3562 873.634 L32.9077 873.634 L32.9077 883.278 L64.0042 883.278 L64.0042 889.167 L32.9077 889.167 L32.9077 894.768 L28.3562 894.768 L28.3562 889.167 L25.8736 889.167 Q19.9216 889.167 17.2162 886.398 Q14.479 883.628 14.479 877.613 L14.479 872.075 Z\" fill=\"#000000\" fill-rule=\"nonzero\" fill-opacity=\"1\" /><path clip-path=\"url(#clip980)\" d=\"M29.4065 823.727 L34.9447 823.727 Q33.6716 826.21 33.035 828.883 Q32.3984 831.557 32.3984 834.422 Q32.3984 838.782 33.7352 840.978 Q35.072 843.143 37.7456 843.143 Q39.7826 843.143 40.9603 841.583 Q42.1061 840.023 43.1565 835.313 L43.6021 833.308 Q44.9389 827.069 47.3897 824.459 Q49.8086 821.817 54.1691 821.817 Q59.1344 821.817 62.0308 825.764 Q64.9272 829.679 64.9272 836.554 Q64.9272 839.419 64.3543 842.538 Q63.8132 845.625 62.6992 849.063 L56.6518 849.063 Q58.3387 845.816 59.198 842.665 Q60.0256 839.514 60.0256 836.427 Q60.0256 832.289 58.6251 830.061 Q57.1929 827.833 54.6147 827.833 Q52.2276 827.833 50.9545 829.456 Q49.6813 831.048 48.5037 836.49 L48.0262 838.527 Q46.8804 843.97 44.5251 846.389 Q42.138 848.808 38.0002 848.808 Q32.9713 848.808 30.2341 845.243 Q27.4968 841.678 27.4968 835.122 Q27.4968 831.875 27.9743 829.011 Q28.4517 826.146 29.4065 823.727 Z\" fill=\"#000000\" fill-rule=\"nonzero\" fill-opacity=\"1\" /><path clip-path=\"url(#clip980)\" d=\"M46.212 808.991 Q52.6732 808.991 56.3653 806.349 Q60.0256 803.675 60.0256 799.028 Q60.0256 794.381 56.3653 791.708 Q52.6732 789.034 46.212 789.034 Q39.7508 789.034 36.0905 791.708 Q32.3984 794.381 32.3984 799.028 Q32.3984 803.675 36.0905 806.349 Q39.7508 808.991 46.212 808.991 M58.657 789.034 Q61.8398 790.88 63.3994 793.713 Q64.9272 796.514 64.9272 800.46 Q64.9272 806.922 59.771 810.996 Q54.6147 815.038 46.212 815.038 Q37.8093 815.038 32.6531 810.996 Q27.4968 806.922 27.4968 800.46 Q27.4968 796.514 29.0564 793.713 Q30.5842 790.88 33.7671 789.034 L28.3562 789.034 L28.3562 783.178 L77.5631 783.178 L77.5631 789.034 L58.657 789.034 Z\" fill=\"#000000\" fill-rule=\"nonzero\" fill-opacity=\"1\" /><path clip-path=\"url(#clip980)\" d=\"M49.9359 771.719 L28.3562 771.719 L28.3562 765.863 L49.7131 765.863 Q54.7739 765.863 57.3202 763.889 Q59.8346 761.916 59.8346 757.969 Q59.8346 753.227 56.8109 750.49 Q53.7872 747.721 48.5673 747.721 L28.3562 747.721 L28.3562 741.864 L64.0042 741.864 L64.0042 747.721 L58.5296 747.721 Q61.7762 749.853 63.3676 752.686 Q64.9272 755.487 64.9272 759.211 Q64.9272 765.354 61.1078 768.536 Q57.2883 771.719 49.9359 771.719 M27.4968 756.983 L27.4968 756.983 Z\" fill=\"#000000\" fill-rule=\"nonzero\" fill-opacity=\"1\" /><path clip-path=\"url(#clip980)\" d=\"M46.0847 713.6 Q46.0847 720.698 47.7079 723.435 Q49.3312 726.173 53.2461 726.173 Q56.3653 726.173 58.2114 724.136 Q60.0256 722.067 60.0256 718.534 Q60.0256 713.664 56.5881 710.736 Q53.1188 707.776 47.3897 707.776 L46.0847 707.776 L46.0847 713.6 M43.6657 701.919 L64.0042 701.919 L64.0042 707.776 L58.5933 707.776 Q61.8398 709.781 63.3994 712.773 Q64.9272 715.765 64.9272 720.093 Q64.9272 725.568 61.8716 728.814 Q58.7843 732.029 53.6281 732.029 Q47.6125 732.029 44.5569 728.019 Q41.5014 723.976 41.5014 715.988 L41.5014 707.776 L40.9285 707.776 Q36.8862 707.776 34.6901 710.449 Q32.4621 713.091 32.4621 717.897 Q32.4621 720.953 33.1941 723.849 Q33.9262 726.746 35.3903 729.419 L29.9795 729.419 Q28.7381 726.204 28.1334 723.181 Q27.4968 720.157 27.4968 717.293 Q27.4968 709.558 31.5072 705.739 Q35.5176 701.919 43.6657 701.919 Z\" fill=\"#000000\" fill-rule=\"nonzero\" fill-opacity=\"1\" /><path clip-path=\"url(#clip980)\" d=\"M33.8307 669.2 Q33.2578 670.186 33.0032 671.364 Q32.7167 672.51 32.7167 673.91 Q32.7167 678.875 35.9632 681.549 Q39.1779 684.191 45.2253 684.191 L64.0042 684.191 L64.0042 690.079 L28.3562 690.079 L28.3562 684.191 L33.8944 684.191 Q30.6479 682.345 29.0883 679.385 Q27.4968 676.425 27.4968 672.191 Q27.4968 671.587 27.5923 670.855 Q27.656 670.123 27.8151 669.231 L33.8307 669.2 Z\" fill=\"#000000\" fill-rule=\"nonzero\" fill-opacity=\"1\" /><path clip-path=\"url(#clip980)\" d=\"M44.7161 633.997 L47.5806 633.997 L47.5806 660.924 Q53.6281 660.542 56.8109 657.296 Q59.9619 654.017 59.9619 648.193 Q59.9619 644.819 59.1344 641.668 Q58.3069 638.485 56.6518 635.366 L62.1899 635.366 Q63.5267 638.517 64.227 641.827 Q64.9272 645.137 64.9272 648.543 Q64.9272 657.073 59.9619 662.07 Q54.9967 667.035 46.5303 667.035 Q37.7774 667.035 32.6531 662.325 Q27.4968 657.582 27.4968 649.561 Q27.4968 642.368 32.1438 638.199 Q36.7589 633.997 44.7161 633.997 M42.9973 639.854 Q38.1912 639.917 35.3266 642.559 Q32.4621 645.169 32.4621 649.498 Q32.4621 654.399 35.2312 657.359 Q38.0002 660.288 43.0292 660.733 L42.9973 639.854 Z\" fill=\"#000000\" fill-rule=\"nonzero\" fill-opacity=\"1\" /><path clip-path=\"url(#clip980)\" d=\"M33.7671 600.927 L14.479 600.927 L14.479 595.071 L64.0042 595.071 L64.0042 600.927 L58.657 600.927 Q61.8398 602.773 63.3994 605.606 Q64.9272 608.407 64.9272 612.354 Q64.9272 618.815 59.771 622.889 Q54.6147 626.931 46.212 626.931 Q37.8093 626.931 32.6531 622.889 Q27.4968 618.815 27.4968 612.354 Q27.4968 608.407 29.0564 605.606 Q30.5842 602.773 33.7671 600.927 M46.212 620.884 Q52.6732 620.884 56.3653 618.242 Q60.0256 615.569 60.0256 610.922 Q60.0256 606.275 56.3653 603.601 Q52.6732 600.927 46.212 600.927 Q39.7508 600.927 36.0905 603.601 Q32.3984 606.275 32.3984 610.922 Q32.3984 615.569 36.0905 618.242 Q39.7508 620.884 46.212 620.884 Z\" fill=\"#000000\" fill-rule=\"nonzero\" fill-opacity=\"1\" /><path clip-path=\"url(#clip980)\" d=\"M28.3562 562.288 L28.3562 556.431 L64.0042 556.431 L64.0042 562.288 L28.3562 562.288 M14.479 562.288 L14.479 556.431 L21.895 556.431 L21.895 562.288 L14.479 562.288 Z\" fill=\"#000000\" fill-rule=\"nonzero\" fill-opacity=\"1\" /><path clip-path=\"url(#clip980)\" d=\"M42.4881 514.545 L64.0042 514.545 L64.0042 520.401 L42.679 520.401 Q37.6183 520.401 35.1038 522.375 Q32.5894 524.348 32.5894 528.295 Q32.5894 533.037 35.6131 535.774 Q38.6368 538.512 43.8567 538.512 L64.0042 538.512 L64.0042 544.4 L28.3562 544.4 L28.3562 538.512 L33.8944 538.512 Q30.6797 536.411 29.0883 533.578 Q27.4968 530.714 27.4968 526.99 Q27.4968 520.847 31.3163 517.696 Q35.1038 514.545 42.4881 514.545 Z\" fill=\"#000000\" fill-rule=\"nonzero\" fill-opacity=\"1\" /><path clip-path=\"url(#clip980)\" d=\"M18.2347 497.071 L28.3562 497.071 L28.3562 485.008 L32.9077 485.008 L32.9077 497.071 L52.2594 497.071 Q56.6199 497.071 57.8613 495.893 Q59.1026 494.684 59.1026 491.023 L59.1026 485.008 L64.0042 485.008 L64.0042 491.023 Q64.0042 497.803 61.4897 500.381 Q58.9434 502.959 52.2594 502.959 L32.9077 502.959 L32.9077 507.256 L28.3562 507.256 L28.3562 502.959 L18.2347 502.959 L18.2347 497.071 Z\" fill=\"#000000\" fill-rule=\"nonzero\" fill-opacity=\"1\" /><path clip-path=\"url(#clip980)\" d=\"M44.7161 446.814 L47.5806 446.814 L47.5806 473.741 Q53.6281 473.359 56.8109 470.112 Q59.9619 466.834 59.9619 461.009 Q59.9619 457.635 59.1344 454.484 Q58.3069 451.301 56.6518 448.182 L62.1899 448.182 Q63.5267 451.333 64.227 454.643 Q64.9272 457.954 64.9272 461.359 Q64.9272 469.889 59.9619 474.886 Q54.9967 479.852 46.5303 479.852 Q37.7774 479.852 32.6531 475.141 Q27.4968 470.399 27.4968 462.378 Q27.4968 455.185 32.1438 451.015 Q36.7589 446.814 44.7161 446.814 M42.9973 452.67 Q38.1912 452.734 35.3266 455.376 Q32.4621 457.985 32.4621 462.314 Q32.4621 467.216 35.2312 470.176 Q38.0002 473.104 43.0292 473.55 L42.9973 452.67 Z\" fill=\"#000000\" fill-rule=\"nonzero\" fill-opacity=\"1\" /><path clip-path=\"url(#clip980)\" d=\"M45.7664 413.744 Q39.4007 413.744 35.8996 416.386 Q32.3984 418.995 32.3984 423.738 Q32.3984 428.449 35.8996 431.09 Q39.4007 433.7 45.7664 433.7 Q52.1003 433.7 55.6014 431.09 Q59.1026 428.449 59.1026 423.738 Q59.1026 418.995 55.6014 416.386 Q52.1003 413.744 45.7664 413.744 M59.58 407.887 Q68.683 407.887 73.1071 411.93 Q77.5631 415.972 77.5631 424.311 Q77.5631 427.398 77.0857 430.135 Q76.6401 432.873 75.6852 435.451 L69.9879 435.451 Q71.3884 432.873 72.0568 430.358 Q72.7252 427.844 72.7252 425.234 Q72.7252 419.473 69.7015 416.608 Q66.7096 413.744 60.6303 413.744 L57.7339 413.744 Q60.885 415.558 62.4446 418.391 Q64.0042 421.223 64.0042 425.17 Q64.0042 431.727 59.0071 435.737 Q54.01 439.748 45.7664 439.748 Q37.491 439.748 32.4939 435.737 Q27.4968 431.727 27.4968 425.17 Q27.4968 421.223 29.0564 418.391 Q30.616 415.558 33.7671 413.744 L28.3562 413.744 L28.3562 407.887 L59.58 407.887 Z\" fill=\"#000000\" fill-rule=\"nonzero\" fill-opacity=\"1\" /><path clip-path=\"url(#clip980)\" d=\"M44.7161 365.333 L47.5806 365.333 L47.5806 392.26 Q53.6281 391.878 56.8109 388.631 Q59.9619 385.353 59.9619 379.528 Q59.9619 376.154 59.1344 373.003 Q58.3069 369.82 56.6518 366.701 L62.1899 366.701 Q63.5267 369.852 64.227 373.162 Q64.9272 376.473 64.9272 379.878 Q64.9272 388.408 59.9619 393.405 Q54.9967 398.371 46.5303 398.371 Q37.7774 398.371 32.6531 393.66 Q27.4968 388.918 27.4968 380.897 Q27.4968 373.703 32.1438 369.534 Q36.7589 365.333 44.7161 365.333 M42.9973 371.189 Q38.1912 371.253 35.3266 373.894 Q32.4621 376.504 32.4621 380.833 Q32.4621 385.735 35.2312 388.695 Q38.0002 391.623 43.0292 392.069 L42.9973 371.189 Z\" fill=\"#000000\" fill-rule=\"nonzero\" fill-opacity=\"1\" /><path clip-path=\"url(#clip980)\" d=\"M33.8307 335.064 Q33.2578 336.05 33.0032 337.228 Q32.7167 338.374 32.7167 339.774 Q32.7167 344.74 35.9632 347.413 Q39.1779 350.055 45.2253 350.055 L64.0042 350.055 L64.0042 355.943 L28.3562 355.943 L28.3562 350.055 L33.8944 350.055 Q30.6479 348.209 29.0883 345.249 Q27.4968 342.289 27.4968 338.056 Q27.4968 337.451 27.5923 336.719 Q27.656 335.987 27.8151 335.095 L33.8307 335.064 Z\" fill=\"#000000\" fill-rule=\"nonzero\" fill-opacity=\"1\" /><polyline clip-path=\"url(#clip982)\" style=\"stroke:#009af9; stroke-linecap:round; stroke-linejoin:round; stroke-width:4; stroke-opacity:1; fill:none\" points=\"264.778,86.1857 467.495,553.485 670.211,916.939 872.927,1176.55 1075.64,1332.32 1278.36,1384.24 1481.08,1332.32 1683.79,1176.55 1886.51,916.939 2089.22,553.485 2291.94,86.1857 \"/>\n",
              "</svg>\n"
            ],
            "text/html": [
              "<?xml version=\"1.0\" encoding=\"utf-8\"?>\n",
              "<svg xmlns=\"http://www.w3.org/2000/svg\" xmlns:xlink=\"http://www.w3.org/1999/xlink\" width=\"600\" height=\"400\" viewBox=\"0 0 2400 1600\">\n",
              "<defs>\n",
              "  <clipPath id=\"clip030\">\n",
              "    <rect x=\"0\" y=\"0\" width=\"2400\" height=\"1600\"/>\n",
              "  </clipPath>\n",
              "</defs>\n",
              "<path clip-path=\"url(#clip030)\" d=\"M0 1600 L2400 1600 L2400 8.88178e-14 L0 8.88178e-14  Z\" fill=\"#ffffff\" fill-rule=\"evenodd\" fill-opacity=\"1\"/>\n",
              "<defs>\n",
              "  <clipPath id=\"clip031\">\n",
              "    <rect x=\"480\" y=\"0\" width=\"1681\" height=\"1600\"/>\n",
              "  </clipPath>\n",
              "</defs>\n",
              "<path clip-path=\"url(#clip030)\" d=\"M203.964 1423.18 L2352.76 1423.18 L2352.76 47.2441 L203.964 47.2441  Z\" fill=\"#ffffff\" fill-rule=\"evenodd\" fill-opacity=\"1\"/>\n",
              "<defs>\n",
              "  <clipPath id=\"clip032\">\n",
              "    <rect x=\"203\" y=\"47\" width=\"2150\" height=\"1377\"/>\n",
              "  </clipPath>\n",
              "</defs>\n",
              "<polyline clip-path=\"url(#clip032)\" style=\"stroke:#000000; stroke-linecap:round; stroke-linejoin:round; stroke-width:2; stroke-opacity:0.1; fill:none\" points=\"467.495,1423.18 467.495,47.2441 \"/>\n",
              "<polyline clip-path=\"url(#clip032)\" style=\"stroke:#000000; stroke-linecap:round; stroke-linejoin:round; stroke-width:2; stroke-opacity:0.1; fill:none\" points=\"872.927,1423.18 872.927,47.2441 \"/>\n",
              "<polyline clip-path=\"url(#clip032)\" style=\"stroke:#000000; stroke-linecap:round; stroke-linejoin:round; stroke-width:2; stroke-opacity:0.1; fill:none\" points=\"1278.36,1423.18 1278.36,47.2441 \"/>\n",
              "<polyline clip-path=\"url(#clip032)\" style=\"stroke:#000000; stroke-linecap:round; stroke-linejoin:round; stroke-width:2; stroke-opacity:0.1; fill:none\" points=\"1683.79,1423.18 1683.79,47.2441 \"/>\n",
              "<polyline clip-path=\"url(#clip032)\" style=\"stroke:#000000; stroke-linecap:round; stroke-linejoin:round; stroke-width:2; stroke-opacity:0.1; fill:none\" points=\"2089.22,1423.18 2089.22,47.2441 \"/>\n",
              "<polyline clip-path=\"url(#clip030)\" style=\"stroke:#000000; stroke-linecap:round; stroke-linejoin:round; stroke-width:4; stroke-opacity:1; fill:none\" points=\"203.964,1423.18 2352.76,1423.18 \"/>\n",
              "<polyline clip-path=\"url(#clip030)\" style=\"stroke:#000000; stroke-linecap:round; stroke-linejoin:round; stroke-width:4; stroke-opacity:1; fill:none\" points=\"467.495,1423.18 467.495,1404.28 \"/>\n",
              "<polyline clip-path=\"url(#clip030)\" style=\"stroke:#000000; stroke-linecap:round; stroke-linejoin:round; stroke-width:4; stroke-opacity:1; fill:none\" points=\"872.927,1423.18 872.927,1404.28 \"/>\n",
              "<polyline clip-path=\"url(#clip030)\" style=\"stroke:#000000; stroke-linecap:round; stroke-linejoin:round; stroke-width:4; stroke-opacity:1; fill:none\" points=\"1278.36,1423.18 1278.36,1404.28 \"/>\n",
              "<polyline clip-path=\"url(#clip030)\" style=\"stroke:#000000; stroke-linecap:round; stroke-linejoin:round; stroke-width:4; stroke-opacity:1; fill:none\" points=\"1683.79,1423.18 1683.79,1404.28 \"/>\n",
              "<polyline clip-path=\"url(#clip030)\" style=\"stroke:#000000; stroke-linecap:round; stroke-linejoin:round; stroke-width:4; stroke-opacity:1; fill:none\" points=\"2089.22,1423.18 2089.22,1404.28 \"/>\n",
              "<path clip-path=\"url(#clip030)\" d=\"M462.148 1481.64 L478.467 1481.64 L478.467 1485.58 L456.523 1485.58 L456.523 1481.64 Q459.185 1478.89 463.768 1474.26 Q468.374 1469.61 469.555 1468.27 Q471.8 1465.74 472.68 1464.01 Q473.583 1462.25 473.583 1460.56 Q473.583 1457.8 471.638 1456.07 Q469.717 1454.33 466.615 1454.33 Q464.416 1454.33 461.962 1455.09 Q459.532 1455.86 456.754 1457.41 L456.754 1452.69 Q459.578 1451.55 462.032 1450.97 Q464.485 1450.39 466.522 1450.39 Q471.893 1450.39 475.087 1453.08 Q478.282 1455.77 478.282 1460.26 Q478.282 1462.39 477.472 1464.31 Q476.684 1466.2 474.578 1468.8 Q473.999 1469.47 470.897 1472.69 Q467.796 1475.88 462.148 1481.64 Z\" fill=\"#000000\" fill-rule=\"nonzero\" fill-opacity=\"1\" /><path clip-path=\"url(#clip030)\" d=\"M875.936 1455.09 L864.131 1473.54 L875.936 1473.54 L875.936 1455.09 M874.71 1451.02 L880.589 1451.02 L880.589 1473.54 L885.52 1473.54 L885.52 1477.43 L880.589 1477.43 L880.589 1485.58 L875.936 1485.58 L875.936 1477.43 L860.335 1477.43 L860.335 1472.92 L874.71 1451.02 Z\" fill=\"#000000\" fill-rule=\"nonzero\" fill-opacity=\"1\" /><path clip-path=\"url(#clip030)\" d=\"M1278.76 1466.44 Q1275.62 1466.44 1273.76 1468.59 Q1271.94 1470.74 1271.94 1474.49 Q1271.94 1478.22 1273.76 1480.39 Q1275.62 1482.55 1278.76 1482.55 Q1281.91 1482.55 1283.74 1480.39 Q1285.59 1478.22 1285.59 1474.49 Q1285.59 1470.74 1283.74 1468.59 Q1281.91 1466.44 1278.76 1466.44 M1288.05 1451.78 L1288.05 1456.04 Q1286.29 1455.21 1284.48 1454.77 Q1282.7 1454.33 1280.94 1454.33 Q1276.31 1454.33 1273.86 1457.45 Q1271.43 1460.58 1271.08 1466.9 Q1272.45 1464.89 1274.51 1463.82 Q1276.57 1462.73 1279.04 1462.73 Q1284.25 1462.73 1287.26 1465.9 Q1290.29 1469.05 1290.29 1474.49 Q1290.29 1479.82 1287.14 1483.03 Q1284 1486.25 1278.76 1486.25 Q1272.77 1486.25 1269.6 1481.67 Q1266.43 1477.06 1266.43 1468.33 Q1266.43 1460.14 1270.32 1455.28 Q1274.2 1450.39 1280.76 1450.39 Q1282.51 1450.39 1284.3 1450.74 Q1286.1 1451.09 1288.05 1451.78 Z\" fill=\"#000000\" fill-rule=\"nonzero\" fill-opacity=\"1\" /><path clip-path=\"url(#clip030)\" d=\"M1683.79 1469.17 Q1680.46 1469.17 1678.54 1470.95 Q1676.64 1472.73 1676.64 1475.86 Q1676.64 1478.98 1678.54 1480.77 Q1680.46 1482.55 1683.79 1482.55 Q1687.13 1482.55 1689.05 1480.77 Q1690.97 1478.96 1690.97 1475.86 Q1690.97 1472.73 1689.05 1470.95 Q1687.15 1469.17 1683.79 1469.17 M1679.12 1467.18 Q1676.11 1466.44 1674.42 1464.38 Q1672.75 1462.32 1672.75 1459.35 Q1672.75 1455.21 1675.69 1452.8 Q1678.65 1450.39 1683.79 1450.39 Q1688.95 1450.39 1691.89 1452.8 Q1694.83 1455.21 1694.83 1459.35 Q1694.83 1462.32 1693.14 1464.38 Q1691.48 1466.44 1688.49 1467.18 Q1691.87 1467.96 1693.75 1470.26 Q1695.64 1472.55 1695.64 1475.86 Q1695.64 1480.88 1692.57 1483.57 Q1689.51 1486.25 1683.79 1486.25 Q1678.07 1486.25 1675 1483.57 Q1671.94 1480.88 1671.94 1475.86 Q1671.94 1472.55 1673.84 1470.26 Q1675.74 1467.96 1679.12 1467.18 M1677.4 1459.79 Q1677.4 1462.48 1679.07 1463.98 Q1680.76 1465.49 1683.79 1465.49 Q1686.8 1465.49 1688.49 1463.98 Q1690.2 1462.48 1690.2 1459.79 Q1690.2 1457.11 1688.49 1455.6 Q1686.8 1454.1 1683.79 1454.1 Q1680.76 1454.1 1679.07 1455.6 Q1677.4 1457.11 1677.4 1459.79 Z\" fill=\"#000000\" fill-rule=\"nonzero\" fill-opacity=\"1\" /><path clip-path=\"url(#clip030)\" d=\"M2063.91 1481.64 L2071.55 1481.64 L2071.55 1455.28 L2063.24 1456.95 L2063.24 1452.69 L2071.5 1451.02 L2076.18 1451.02 L2076.18 1481.64 L2083.82 1481.64 L2083.82 1485.58 L2063.91 1485.58 L2063.91 1481.64 Z\" fill=\"#000000\" fill-rule=\"nonzero\" fill-opacity=\"1\" /><path clip-path=\"url(#clip030)\" d=\"M2103.26 1454.1 Q2099.65 1454.1 2097.82 1457.66 Q2096.02 1461.2 2096.02 1468.33 Q2096.02 1475.44 2097.82 1479.01 Q2099.65 1482.55 2103.26 1482.55 Q2106.9 1482.55 2108.7 1479.01 Q2110.53 1475.44 2110.53 1468.33 Q2110.53 1461.2 2108.7 1457.66 Q2106.9 1454.1 2103.26 1454.1 M2103.26 1450.39 Q2109.07 1450.39 2112.13 1455 Q2115.21 1459.58 2115.21 1468.33 Q2115.21 1477.06 2112.13 1481.67 Q2109.07 1486.25 2103.26 1486.25 Q2097.45 1486.25 2094.38 1481.67 Q2091.32 1477.06 2091.32 1468.33 Q2091.32 1459.58 2094.38 1455 Q2097.45 1450.39 2103.26 1450.39 Z\" fill=\"#000000\" fill-rule=\"nonzero\" fill-opacity=\"1\" /><path clip-path=\"url(#clip030)\" d=\"M1164.32 1520.52 L1170.75 1520.52 L1170.75 1568.04 L1164.32 1568.04 L1164.32 1520.52 Z\" fill=\"#000000\" fill-rule=\"nonzero\" fill-opacity=\"1\" /><path clip-path=\"url(#clip030)\" d=\"M1212.92 1546.53 L1212.92 1568.04 L1207.06 1568.04 L1207.06 1546.72 Q1207.06 1541.66 1205.09 1539.14 Q1203.12 1536.63 1199.17 1536.63 Q1194.43 1536.63 1191.69 1539.65 Q1188.95 1542.68 1188.95 1547.9 L1188.95 1568.04 L1183.07 1568.04 L1183.07 1532.4 L1188.95 1532.4 L1188.95 1537.93 Q1191.05 1534.72 1193.89 1533.13 Q1196.75 1531.54 1200.48 1531.54 Q1206.62 1531.54 1209.77 1535.36 Q1212.92 1539.14 1212.92 1546.53 Z\" fill=\"#000000\" fill-rule=\"nonzero\" fill-opacity=\"1\" /><path clip-path=\"url(#clip030)\" d=\"M1230.39 1522.27 L1230.39 1532.4 L1242.46 1532.4 L1242.46 1536.95 L1230.39 1536.95 L1230.39 1556.3 Q1230.39 1560.66 1231.57 1561.9 Q1232.78 1563.14 1236.44 1563.14 L1242.46 1563.14 L1242.46 1568.04 L1236.44 1568.04 Q1229.66 1568.04 1227.08 1565.53 Q1224.51 1562.98 1224.51 1556.3 L1224.51 1536.95 L1220.21 1536.95 L1220.21 1532.4 L1224.51 1532.4 L1224.51 1522.27 L1230.39 1522.27 Z\" fill=\"#000000\" fill-rule=\"nonzero\" fill-opacity=\"1\" /><path clip-path=\"url(#clip030)\" d=\"M1280.65 1548.76 L1280.65 1551.62 L1253.72 1551.62 Q1254.11 1557.67 1257.35 1560.85 Q1260.63 1564 1266.46 1564 Q1269.83 1564 1272.98 1563.17 Q1276.16 1562.35 1279.28 1560.69 L1279.28 1566.23 Q1276.13 1567.57 1272.82 1568.27 Q1269.51 1568.97 1266.11 1568.97 Q1257.58 1568.97 1252.58 1564 Q1247.61 1559.04 1247.61 1550.57 Q1247.61 1541.82 1252.32 1536.69 Q1257.07 1531.54 1265.09 1531.54 Q1272.28 1531.54 1276.45 1536.18 Q1280.65 1540.8 1280.65 1548.76 M1274.79 1547.04 Q1274.73 1542.23 1272.09 1539.37 Q1269.48 1536.5 1265.15 1536.5 Q1260.25 1536.5 1257.29 1539.27 Q1254.36 1542.04 1253.92 1547.07 L1274.79 1547.04 Z\" fill=\"#000000\" fill-rule=\"nonzero\" fill-opacity=\"1\" /><path clip-path=\"url(#clip030)\" d=\"M1313.72 1549.81 Q1313.72 1543.44 1311.08 1539.94 Q1308.47 1536.44 1303.73 1536.44 Q1299.02 1536.44 1296.37 1539.94 Q1293.76 1543.44 1293.76 1549.81 Q1293.76 1556.14 1296.37 1559.64 Q1299.02 1563.14 1303.73 1563.14 Q1308.47 1563.14 1311.08 1559.64 Q1313.72 1556.14 1313.72 1549.81 M1319.58 1563.62 Q1319.58 1572.72 1315.54 1577.15 Q1311.49 1581.6 1303.15 1581.6 Q1300.07 1581.6 1297.33 1581.13 Q1294.59 1580.68 1292.01 1579.72 L1292.01 1574.03 Q1294.59 1575.43 1297.11 1576.1 Q1299.62 1576.76 1302.23 1576.76 Q1307.99 1576.76 1310.86 1573.74 Q1313.72 1570.75 1313.72 1564.67 L1313.72 1561.77 Q1311.91 1564.92 1309.07 1566.48 Q1306.24 1568.04 1302.29 1568.04 Q1295.74 1568.04 1291.73 1563.05 Q1287.72 1558.05 1287.72 1549.81 Q1287.72 1541.53 1291.73 1536.53 Q1295.74 1531.54 1302.29 1531.54 Q1306.24 1531.54 1309.07 1533.1 Q1311.91 1534.66 1313.72 1537.81 L1313.72 1532.4 L1319.58 1532.4 L1319.58 1563.62 Z\" fill=\"#000000\" fill-rule=\"nonzero\" fill-opacity=\"1\" /><path clip-path=\"url(#clip030)\" d=\"M1362.13 1548.76 L1362.13 1551.62 L1335.21 1551.62 Q1335.59 1557.67 1338.83 1560.85 Q1342.11 1564 1347.94 1564 Q1351.31 1564 1354.46 1563.17 Q1357.64 1562.35 1360.76 1560.69 L1360.76 1566.23 Q1357.61 1567.57 1354.3 1568.27 Q1350.99 1568.97 1347.59 1568.97 Q1339.06 1568.97 1334.06 1564 Q1329.09 1559.04 1329.09 1550.57 Q1329.09 1541.82 1333.81 1536.69 Q1338.55 1531.54 1346.57 1531.54 Q1353.76 1531.54 1357.93 1536.18 Q1362.13 1540.8 1362.13 1548.76 M1356.28 1547.04 Q1356.21 1542.23 1353.57 1539.37 Q1350.96 1536.5 1346.63 1536.5 Q1341.73 1536.5 1338.77 1539.27 Q1335.84 1542.04 1335.4 1547.07 L1356.28 1547.04 Z\" fill=\"#000000\" fill-rule=\"nonzero\" fill-opacity=\"1\" /><path clip-path=\"url(#clip030)\" d=\"M1392.4 1537.87 Q1391.41 1537.3 1390.24 1537.04 Q1389.09 1536.76 1387.69 1536.76 Q1382.73 1536.76 1380.05 1540 Q1377.41 1543.22 1377.41 1549.27 L1377.41 1568.04 L1371.52 1568.04 L1371.52 1532.4 L1377.41 1532.4 L1377.41 1537.93 Q1379.26 1534.69 1382.22 1533.13 Q1385.18 1531.54 1389.41 1531.54 Q1390.01 1531.54 1390.75 1531.63 Q1391.48 1531.7 1392.37 1531.85 L1392.4 1537.87 Z\" fill=\"#000000\" fill-rule=\"nonzero\" fill-opacity=\"1\" /><polyline clip-path=\"url(#clip032)\" style=\"stroke:#000000; stroke-linecap:round; stroke-linejoin:round; stroke-width:2; stroke-opacity:0.1; fill:none\" points=\"203.964,1384.24 2352.76,1384.24 \"/>\n",
              "<polyline clip-path=\"url(#clip032)\" style=\"stroke:#000000; stroke-linecap:round; stroke-linejoin:round; stroke-width:2; stroke-opacity:0.1; fill:none\" points=\"203.964,1124.63 2352.76,1124.63 \"/>\n",
              "<polyline clip-path=\"url(#clip032)\" style=\"stroke:#000000; stroke-linecap:round; stroke-linejoin:round; stroke-width:2; stroke-opacity:0.1; fill:none\" points=\"203.964,865.017 2352.76,865.017 \"/>\n",
              "<polyline clip-path=\"url(#clip032)\" style=\"stroke:#000000; stroke-linecap:round; stroke-linejoin:round; stroke-width:2; stroke-opacity:0.1; fill:none\" points=\"203.964,605.407 2352.76,605.407 \"/>\n",
              "<polyline clip-path=\"url(#clip032)\" style=\"stroke:#000000; stroke-linecap:round; stroke-linejoin:round; stroke-width:2; stroke-opacity:0.1; fill:none\" points=\"203.964,345.796 2352.76,345.796 \"/>\n",
              "<polyline clip-path=\"url(#clip032)\" style=\"stroke:#000000; stroke-linecap:round; stroke-linejoin:round; stroke-width:2; stroke-opacity:0.1; fill:none\" points=\"203.964,86.1857 2352.76,86.1857 \"/>\n",
              "<polyline clip-path=\"url(#clip030)\" style=\"stroke:#000000; stroke-linecap:round; stroke-linejoin:round; stroke-width:4; stroke-opacity:1; fill:none\" points=\"203.964,1423.18 203.964,47.2441 \"/>\n",
              "<polyline clip-path=\"url(#clip030)\" style=\"stroke:#000000; stroke-linecap:round; stroke-linejoin:round; stroke-width:4; stroke-opacity:1; fill:none\" points=\"203.964,1384.24 222.861,1384.24 \"/>\n",
              "<polyline clip-path=\"url(#clip030)\" style=\"stroke:#000000; stroke-linecap:round; stroke-linejoin:round; stroke-width:4; stroke-opacity:1; fill:none\" points=\"203.964,1124.63 222.861,1124.63 \"/>\n",
              "<polyline clip-path=\"url(#clip030)\" style=\"stroke:#000000; stroke-linecap:round; stroke-linejoin:round; stroke-width:4; stroke-opacity:1; fill:none\" points=\"203.964,865.017 222.861,865.017 \"/>\n",
              "<polyline clip-path=\"url(#clip030)\" style=\"stroke:#000000; stroke-linecap:round; stroke-linejoin:round; stroke-width:4; stroke-opacity:1; fill:none\" points=\"203.964,605.407 222.861,605.407 \"/>\n",
              "<polyline clip-path=\"url(#clip030)\" style=\"stroke:#000000; stroke-linecap:round; stroke-linejoin:round; stroke-width:4; stroke-opacity:1; fill:none\" points=\"203.964,345.796 222.861,345.796 \"/>\n",
              "<polyline clip-path=\"url(#clip030)\" style=\"stroke:#000000; stroke-linecap:round; stroke-linejoin:round; stroke-width:4; stroke-opacity:1; fill:none\" points=\"203.964,86.1857 222.861,86.1857 \"/>\n",
              "<path clip-path=\"url(#clip030)\" d=\"M156.019 1370.04 Q152.408 1370.04 150.579 1373.6 Q148.774 1377.14 148.774 1384.27 Q148.774 1391.38 150.579 1394.94 Q152.408 1398.49 156.019 1398.49 Q159.653 1398.49 161.459 1394.94 Q163.288 1391.38 163.288 1384.27 Q163.288 1377.14 161.459 1373.6 Q159.653 1370.04 156.019 1370.04 M156.019 1366.33 Q161.829 1366.33 164.885 1370.94 Q167.964 1375.52 167.964 1384.27 Q167.964 1393 164.885 1397.61 Q161.829 1402.19 156.019 1402.19 Q150.209 1402.19 147.13 1397.61 Q144.075 1393 144.075 1384.27 Q144.075 1375.52 147.13 1370.94 Q150.209 1366.33 156.019 1366.33 Z\" fill=\"#000000\" fill-rule=\"nonzero\" fill-opacity=\"1\" /><path clip-path=\"url(#clip030)\" d=\"M147.061 1107.35 L165.417 1107.35 L165.417 1111.28 L151.343 1111.28 L151.343 1119.76 Q152.362 1119.41 153.38 1119.25 Q154.399 1119.06 155.417 1119.06 Q161.204 1119.06 164.584 1122.23 Q167.964 1125.4 167.964 1130.82 Q167.964 1136.4 164.491 1139.5 Q161.019 1142.58 154.7 1142.58 Q152.524 1142.58 150.255 1142.21 Q148.01 1141.84 145.603 1141.1 L145.603 1136.4 Q147.686 1137.53 149.908 1138.09 Q152.13 1138.64 154.607 1138.64 Q158.612 1138.64 160.95 1136.54 Q163.288 1134.43 163.288 1130.82 Q163.288 1127.21 160.95 1125.1 Q158.612 1123 154.607 1123 Q152.732 1123 150.857 1123.41 Q149.005 1123.83 147.061 1124.71 L147.061 1107.35 Z\" fill=\"#000000\" fill-rule=\"nonzero\" fill-opacity=\"1\" /><path clip-path=\"url(#clip030)\" d=\"M116.668 878.362 L124.306 878.362 L124.306 851.996 L115.996 853.663 L115.996 849.404 L124.26 847.737 L128.936 847.737 L128.936 878.362 L136.575 878.362 L136.575 882.297 L116.668 882.297 L116.668 878.362 Z\" fill=\"#000000\" fill-rule=\"nonzero\" fill-opacity=\"1\" /><path clip-path=\"url(#clip030)\" d=\"M156.019 850.816 Q152.408 850.816 150.579 854.381 Q148.774 857.922 148.774 865.052 Q148.774 872.158 150.579 875.723 Q152.408 879.265 156.019 879.265 Q159.653 879.265 161.459 875.723 Q163.288 872.158 163.288 865.052 Q163.288 857.922 161.459 854.381 Q159.653 850.816 156.019 850.816 M156.019 847.112 Q161.829 847.112 164.885 851.719 Q167.964 856.302 167.964 865.052 Q167.964 873.779 164.885 878.385 Q161.829 882.969 156.019 882.969 Q150.209 882.969 147.13 878.385 Q144.075 873.779 144.075 865.052 Q144.075 856.302 147.13 851.719 Q150.209 847.112 156.019 847.112 Z\" fill=\"#000000\" fill-rule=\"nonzero\" fill-opacity=\"1\" /><path clip-path=\"url(#clip030)\" d=\"M117.663 618.752 L125.302 618.752 L125.302 592.386 L116.992 594.053 L116.992 589.793 L125.255 588.127 L129.931 588.127 L129.931 618.752 L137.57 618.752 L137.57 622.687 L117.663 622.687 L117.663 618.752 Z\" fill=\"#000000\" fill-rule=\"nonzero\" fill-opacity=\"1\" /><path clip-path=\"url(#clip030)\" d=\"M147.061 588.127 L165.417 588.127 L165.417 592.062 L151.343 592.062 L151.343 600.534 Q152.362 600.187 153.38 600.025 Q154.399 599.84 155.417 599.84 Q161.204 599.84 164.584 603.011 Q167.964 606.182 167.964 611.599 Q167.964 617.177 164.491 620.279 Q161.019 623.358 154.7 623.358 Q152.524 623.358 150.255 622.988 Q148.01 622.617 145.603 621.877 L145.603 617.177 Q147.686 618.312 149.908 618.867 Q152.13 619.423 154.607 619.423 Q158.612 619.423 160.95 617.316 Q163.288 615.21 163.288 611.599 Q163.288 607.988 160.95 605.881 Q158.612 603.775 154.607 603.775 Q152.732 603.775 150.857 604.191 Q149.005 604.608 147.061 605.488 L147.061 588.127 Z\" fill=\"#000000\" fill-rule=\"nonzero\" fill-opacity=\"1\" /><path clip-path=\"url(#clip030)\" d=\"M119.885 359.141 L136.204 359.141 L136.204 363.076 L114.26 363.076 L114.26 359.141 Q116.922 356.386 121.505 351.757 Q126.112 347.104 127.292 345.761 Q129.538 343.238 130.417 341.502 Q131.32 339.743 131.32 338.053 Q131.32 335.299 129.376 333.562 Q127.455 331.826 124.353 331.826 Q122.154 331.826 119.7 332.59 Q117.269 333.354 114.492 334.905 L114.492 330.183 Q117.316 329.049 119.769 328.47 Q122.223 327.891 124.26 327.891 Q129.63 327.891 132.825 330.576 Q136.019 333.262 136.019 337.752 Q136.019 339.882 135.209 341.803 Q134.422 343.701 132.316 346.294 Q131.737 346.965 128.635 350.183 Q125.533 353.377 119.885 359.141 Z\" fill=\"#000000\" fill-rule=\"nonzero\" fill-opacity=\"1\" /><path clip-path=\"url(#clip030)\" d=\"M156.019 331.595 Q152.408 331.595 150.579 335.16 Q148.774 338.701 148.774 345.831 Q148.774 352.937 150.579 356.502 Q152.408 360.044 156.019 360.044 Q159.653 360.044 161.459 356.502 Q163.288 352.937 163.288 345.831 Q163.288 338.701 161.459 335.16 Q159.653 331.595 156.019 331.595 M156.019 327.891 Q161.829 327.891 164.885 332.498 Q167.964 337.081 167.964 345.831 Q167.964 354.558 164.885 359.164 Q161.829 363.747 156.019 363.747 Q150.209 363.747 147.13 359.164 Q144.075 354.558 144.075 345.831 Q144.075 337.081 147.13 332.498 Q150.209 327.891 156.019 327.891 Z\" fill=\"#000000\" fill-rule=\"nonzero\" fill-opacity=\"1\" /><path clip-path=\"url(#clip030)\" d=\"M120.88 99.5305 L137.2 99.5305 L137.2 103.466 L115.256 103.466 L115.256 99.5305 Q117.918 96.7759 122.501 92.1463 Q127.107 87.4935 128.288 86.151 Q130.533 83.6278 131.413 81.8917 Q132.316 80.1325 132.316 78.4427 Q132.316 75.688 130.371 73.9519 Q128.45 72.2158 125.348 72.2158 Q123.149 72.2158 120.695 72.9797 Q118.265 73.7436 115.487 75.2945 L115.487 70.5723 Q118.311 69.4381 120.765 68.8594 Q123.218 68.2807 125.255 68.2807 Q130.626 68.2807 133.82 70.9658 Q137.015 73.651 137.015 78.1417 Q137.015 80.2714 136.204 82.1926 Q135.417 84.0908 133.311 86.6834 Q132.732 87.3546 129.63 90.5722 Q126.529 93.7667 120.88 99.5305 Z\" fill=\"#000000\" fill-rule=\"nonzero\" fill-opacity=\"1\" /><path clip-path=\"url(#clip030)\" d=\"M147.061 68.9057 L165.417 68.9057 L165.417 72.8408 L151.343 72.8408 L151.343 81.313 Q152.362 80.9658 153.38 80.8038 Q154.399 80.6186 155.417 80.6186 Q161.204 80.6186 164.584 83.7899 Q167.964 86.9611 167.964 92.3778 Q167.964 97.9564 164.491 101.058 Q161.019 104.137 154.7 104.137 Q152.524 104.137 150.255 103.767 Q148.01 103.396 145.603 102.655 L145.603 97.9564 Q147.686 99.0907 149.908 99.6462 Q152.13 100.202 154.607 100.202 Q158.612 100.202 160.95 98.0953 Q163.288 95.9889 163.288 92.3778 Q163.288 88.7667 160.95 86.6602 Q158.612 84.5537 154.607 84.5537 Q152.732 84.5537 150.857 84.9704 Q149.005 85.3871 147.061 86.2667 L147.061 68.9057 Z\" fill=\"#000000\" fill-rule=\"nonzero\" fill-opacity=\"1\" /><path clip-path=\"url(#clip030)\" d=\"M64.0042 1117.22 L16.4842 1135.36 L16.4842 1128.64 L56.4926 1113.59 L16.4842 1098.5 L16.4842 1091.82 L64.0042 1109.93 L64.0042 1117.22 Z\" fill=\"#000000\" fill-rule=\"nonzero\" fill-opacity=\"1\" /><path clip-path=\"url(#clip030)\" d=\"M46.0847 1073.99 Q46.0847 1081.09 47.7079 1083.83 Q49.3312 1086.57 53.2461 1086.57 Q56.3653 1086.57 58.2114 1084.53 Q60.0256 1082.46 60.0256 1078.93 Q60.0256 1074.06 56.5881 1071.13 Q53.1188 1068.17 47.3897 1068.17 L46.0847 1068.17 L46.0847 1073.99 M43.6657 1062.31 L64.0042 1062.31 L64.0042 1068.17 L58.5933 1068.17 Q61.8398 1070.18 63.3994 1073.17 Q64.9272 1076.16 64.9272 1080.49 Q64.9272 1085.96 61.8716 1089.21 Q58.7843 1092.42 53.6281 1092.42 Q47.6125 1092.42 44.5569 1088.41 Q41.5014 1084.37 41.5014 1076.38 L41.5014 1068.17 L40.9285 1068.17 Q36.8862 1068.17 34.6901 1070.84 Q32.4621 1073.49 32.4621 1078.29 Q32.4621 1081.35 33.1941 1084.24 Q33.9262 1087.14 35.3903 1089.81 L29.9795 1089.81 Q28.7381 1086.6 28.1334 1083.58 Q27.4968 1080.55 27.4968 1077.69 Q27.4968 1069.95 31.5072 1066.13 Q35.5176 1062.31 43.6657 1062.31 Z\" fill=\"#000000\" fill-rule=\"nonzero\" fill-opacity=\"1\" /><path clip-path=\"url(#clip030)\" d=\"M14.479 1050.25 L14.479 1044.39 L64.0042 1044.39 L64.0042 1050.25 L14.479 1050.25 Z\" fill=\"#000000\" fill-rule=\"nonzero\" fill-opacity=\"1\" /><path clip-path=\"url(#clip030)\" d=\"M49.9359 1032.75 L28.3562 1032.75 L28.3562 1026.89 L49.7131 1026.89 Q54.7739 1026.89 57.3202 1024.92 Q59.8346 1022.94 59.8346 1019 Q59.8346 1014.25 56.8109 1011.52 Q53.7872 1008.75 48.5673 1008.75 L28.3562 1008.75 L28.3562 1002.89 L64.0042 1002.89 L64.0042 1008.75 L58.5296 1008.75 Q61.7762 1010.88 63.3676 1013.71 Q64.9272 1016.51 64.9272 1020.24 Q64.9272 1026.38 61.1078 1029.56 Q57.2883 1032.75 49.9359 1032.75 M27.4968 1018.01 L27.4968 1018.01 Z\" fill=\"#000000\" fill-rule=\"nonzero\" fill-opacity=\"1\" /><path clip-path=\"url(#clip030)\" d=\"M44.7161 960.335 L47.5806 960.335 L47.5806 987.262 Q53.6281 986.88 56.8109 983.634 Q59.9619 980.355 59.9619 974.531 Q59.9619 971.157 59.1344 968.006 Q58.3069 964.823 56.6518 961.704 L62.1899 961.704 Q63.5267 964.855 64.227 968.165 Q64.9272 971.475 64.9272 974.881 Q64.9272 983.411 59.9619 988.408 Q54.9967 993.373 46.5303 993.373 Q37.7774 993.373 32.6531 988.663 Q27.4968 983.92 27.4968 975.899 Q27.4968 968.706 32.1438 964.537 Q36.7589 960.335 44.7161 960.335 M42.9973 966.192 Q38.1912 966.255 35.3266 968.897 Q32.4621 971.507 32.4621 975.836 Q32.4621 980.737 35.2312 983.697 Q38.0002 986.626 43.0292 987.071 L42.9973 966.192 Z\" fill=\"#000000\" fill-rule=\"nonzero\" fill-opacity=\"1\" /><path clip-path=\"url(#clip030)\" d=\"M32.4621 916.189 Q32.4621 920.9 36.1542 923.637 Q39.8145 926.374 46.212 926.374 Q52.6095 926.374 56.3017 923.669 Q59.9619 920.931 59.9619 916.189 Q59.9619 911.51 56.2698 908.773 Q52.5777 906.036 46.212 906.036 Q39.8781 906.036 36.186 908.773 Q32.4621 911.51 32.4621 916.189 M27.4968 916.189 Q27.4968 908.55 32.4621 904.19 Q37.4273 899.829 46.212 899.829 Q54.9649 899.829 59.9619 904.19 Q64.9272 908.55 64.9272 916.189 Q64.9272 923.86 59.9619 928.22 Q54.9649 932.549 46.212 932.549 Q37.4273 932.549 32.4621 928.22 Q27.4968 923.86 27.4968 916.189 Z\" fill=\"#000000\" fill-rule=\"nonzero\" fill-opacity=\"1\" /><path clip-path=\"url(#clip030)\" d=\"M14.479 872.075 L19.3487 872.075 L19.3487 877.676 Q19.3487 880.828 20.6219 882.069 Q21.895 883.278 25.2052 883.278 L28.3562 883.278 L28.3562 873.634 L32.9077 873.634 L32.9077 883.278 L64.0042 883.278 L64.0042 889.167 L32.9077 889.167 L32.9077 894.768 L28.3562 894.768 L28.3562 889.167 L25.8736 889.167 Q19.9216 889.167 17.2162 886.398 Q14.479 883.628 14.479 877.613 L14.479 872.075 Z\" fill=\"#000000\" fill-rule=\"nonzero\" fill-opacity=\"1\" /><path clip-path=\"url(#clip030)\" d=\"M29.4065 823.727 L34.9447 823.727 Q33.6716 826.21 33.035 828.883 Q32.3984 831.557 32.3984 834.422 Q32.3984 838.782 33.7352 840.978 Q35.072 843.143 37.7456 843.143 Q39.7826 843.143 40.9603 841.583 Q42.1061 840.023 43.1565 835.313 L43.6021 833.308 Q44.9389 827.069 47.3897 824.459 Q49.8086 821.817 54.1691 821.817 Q59.1344 821.817 62.0308 825.764 Q64.9272 829.679 64.9272 836.554 Q64.9272 839.419 64.3543 842.538 Q63.8132 845.625 62.6992 849.063 L56.6518 849.063 Q58.3387 845.816 59.198 842.665 Q60.0256 839.514 60.0256 836.427 Q60.0256 832.289 58.6251 830.061 Q57.1929 827.833 54.6147 827.833 Q52.2276 827.833 50.9545 829.456 Q49.6813 831.048 48.5037 836.49 L48.0262 838.527 Q46.8804 843.97 44.5251 846.389 Q42.138 848.808 38.0002 848.808 Q32.9713 848.808 30.2341 845.243 Q27.4968 841.678 27.4968 835.122 Q27.4968 831.875 27.9743 829.011 Q28.4517 826.146 29.4065 823.727 Z\" fill=\"#000000\" fill-rule=\"nonzero\" fill-opacity=\"1\" /><path clip-path=\"url(#clip030)\" d=\"M46.212 808.991 Q52.6732 808.991 56.3653 806.349 Q60.0256 803.675 60.0256 799.028 Q60.0256 794.381 56.3653 791.708 Q52.6732 789.034 46.212 789.034 Q39.7508 789.034 36.0905 791.708 Q32.3984 794.381 32.3984 799.028 Q32.3984 803.675 36.0905 806.349 Q39.7508 808.991 46.212 808.991 M58.657 789.034 Q61.8398 790.88 63.3994 793.713 Q64.9272 796.514 64.9272 800.46 Q64.9272 806.922 59.771 810.996 Q54.6147 815.038 46.212 815.038 Q37.8093 815.038 32.6531 810.996 Q27.4968 806.922 27.4968 800.46 Q27.4968 796.514 29.0564 793.713 Q30.5842 790.88 33.7671 789.034 L28.3562 789.034 L28.3562 783.178 L77.5631 783.178 L77.5631 789.034 L58.657 789.034 Z\" fill=\"#000000\" fill-rule=\"nonzero\" fill-opacity=\"1\" /><path clip-path=\"url(#clip030)\" d=\"M49.9359 771.719 L28.3562 771.719 L28.3562 765.863 L49.7131 765.863 Q54.7739 765.863 57.3202 763.889 Q59.8346 761.916 59.8346 757.969 Q59.8346 753.227 56.8109 750.49 Q53.7872 747.721 48.5673 747.721 L28.3562 747.721 L28.3562 741.864 L64.0042 741.864 L64.0042 747.721 L58.5296 747.721 Q61.7762 749.853 63.3676 752.686 Q64.9272 755.487 64.9272 759.211 Q64.9272 765.354 61.1078 768.536 Q57.2883 771.719 49.9359 771.719 M27.4968 756.983 L27.4968 756.983 Z\" fill=\"#000000\" fill-rule=\"nonzero\" fill-opacity=\"1\" /><path clip-path=\"url(#clip030)\" d=\"M46.0847 713.6 Q46.0847 720.698 47.7079 723.435 Q49.3312 726.173 53.2461 726.173 Q56.3653 726.173 58.2114 724.136 Q60.0256 722.067 60.0256 718.534 Q60.0256 713.664 56.5881 710.736 Q53.1188 707.776 47.3897 707.776 L46.0847 707.776 L46.0847 713.6 M43.6657 701.919 L64.0042 701.919 L64.0042 707.776 L58.5933 707.776 Q61.8398 709.781 63.3994 712.773 Q64.9272 715.765 64.9272 720.093 Q64.9272 725.568 61.8716 728.814 Q58.7843 732.029 53.6281 732.029 Q47.6125 732.029 44.5569 728.019 Q41.5014 723.976 41.5014 715.988 L41.5014 707.776 L40.9285 707.776 Q36.8862 707.776 34.6901 710.449 Q32.4621 713.091 32.4621 717.897 Q32.4621 720.953 33.1941 723.849 Q33.9262 726.746 35.3903 729.419 L29.9795 729.419 Q28.7381 726.204 28.1334 723.181 Q27.4968 720.157 27.4968 717.293 Q27.4968 709.558 31.5072 705.739 Q35.5176 701.919 43.6657 701.919 Z\" fill=\"#000000\" fill-rule=\"nonzero\" fill-opacity=\"1\" /><path clip-path=\"url(#clip030)\" d=\"M33.8307 669.2 Q33.2578 670.186 33.0032 671.364 Q32.7167 672.51 32.7167 673.91 Q32.7167 678.875 35.9632 681.549 Q39.1779 684.191 45.2253 684.191 L64.0042 684.191 L64.0042 690.079 L28.3562 690.079 L28.3562 684.191 L33.8944 684.191 Q30.6479 682.345 29.0883 679.385 Q27.4968 676.425 27.4968 672.191 Q27.4968 671.587 27.5923 670.855 Q27.656 670.123 27.8151 669.231 L33.8307 669.2 Z\" fill=\"#000000\" fill-rule=\"nonzero\" fill-opacity=\"1\" /><path clip-path=\"url(#clip030)\" d=\"M44.7161 633.997 L47.5806 633.997 L47.5806 660.924 Q53.6281 660.542 56.8109 657.296 Q59.9619 654.017 59.9619 648.193 Q59.9619 644.819 59.1344 641.668 Q58.3069 638.485 56.6518 635.366 L62.1899 635.366 Q63.5267 638.517 64.227 641.827 Q64.9272 645.137 64.9272 648.543 Q64.9272 657.073 59.9619 662.07 Q54.9967 667.035 46.5303 667.035 Q37.7774 667.035 32.6531 662.325 Q27.4968 657.582 27.4968 649.561 Q27.4968 642.368 32.1438 638.199 Q36.7589 633.997 44.7161 633.997 M42.9973 639.854 Q38.1912 639.917 35.3266 642.559 Q32.4621 645.169 32.4621 649.498 Q32.4621 654.399 35.2312 657.359 Q38.0002 660.288 43.0292 660.733 L42.9973 639.854 Z\" fill=\"#000000\" fill-rule=\"nonzero\" fill-opacity=\"1\" /><path clip-path=\"url(#clip030)\" d=\"M33.7671 600.927 L14.479 600.927 L14.479 595.071 L64.0042 595.071 L64.0042 600.927 L58.657 600.927 Q61.8398 602.773 63.3994 605.606 Q64.9272 608.407 64.9272 612.354 Q64.9272 618.815 59.771 622.889 Q54.6147 626.931 46.212 626.931 Q37.8093 626.931 32.6531 622.889 Q27.4968 618.815 27.4968 612.354 Q27.4968 608.407 29.0564 605.606 Q30.5842 602.773 33.7671 600.927 M46.212 620.884 Q52.6732 620.884 56.3653 618.242 Q60.0256 615.569 60.0256 610.922 Q60.0256 606.275 56.3653 603.601 Q52.6732 600.927 46.212 600.927 Q39.7508 600.927 36.0905 603.601 Q32.3984 606.275 32.3984 610.922 Q32.3984 615.569 36.0905 618.242 Q39.7508 620.884 46.212 620.884 Z\" fill=\"#000000\" fill-rule=\"nonzero\" fill-opacity=\"1\" /><path clip-path=\"url(#clip030)\" d=\"M28.3562 562.288 L28.3562 556.431 L64.0042 556.431 L64.0042 562.288 L28.3562 562.288 M14.479 562.288 L14.479 556.431 L21.895 556.431 L21.895 562.288 L14.479 562.288 Z\" fill=\"#000000\" fill-rule=\"nonzero\" fill-opacity=\"1\" /><path clip-path=\"url(#clip030)\" d=\"M42.4881 514.545 L64.0042 514.545 L64.0042 520.401 L42.679 520.401 Q37.6183 520.401 35.1038 522.375 Q32.5894 524.348 32.5894 528.295 Q32.5894 533.037 35.6131 535.774 Q38.6368 538.512 43.8567 538.512 L64.0042 538.512 L64.0042 544.4 L28.3562 544.4 L28.3562 538.512 L33.8944 538.512 Q30.6797 536.411 29.0883 533.578 Q27.4968 530.714 27.4968 526.99 Q27.4968 520.847 31.3163 517.696 Q35.1038 514.545 42.4881 514.545 Z\" fill=\"#000000\" fill-rule=\"nonzero\" fill-opacity=\"1\" /><path clip-path=\"url(#clip030)\" d=\"M18.2347 497.071 L28.3562 497.071 L28.3562 485.008 L32.9077 485.008 L32.9077 497.071 L52.2594 497.071 Q56.6199 497.071 57.8613 495.893 Q59.1026 494.684 59.1026 491.023 L59.1026 485.008 L64.0042 485.008 L64.0042 491.023 Q64.0042 497.803 61.4897 500.381 Q58.9434 502.959 52.2594 502.959 L32.9077 502.959 L32.9077 507.256 L28.3562 507.256 L28.3562 502.959 L18.2347 502.959 L18.2347 497.071 Z\" fill=\"#000000\" fill-rule=\"nonzero\" fill-opacity=\"1\" /><path clip-path=\"url(#clip030)\" d=\"M44.7161 446.814 L47.5806 446.814 L47.5806 473.741 Q53.6281 473.359 56.8109 470.112 Q59.9619 466.834 59.9619 461.009 Q59.9619 457.635 59.1344 454.484 Q58.3069 451.301 56.6518 448.182 L62.1899 448.182 Q63.5267 451.333 64.227 454.643 Q64.9272 457.954 64.9272 461.359 Q64.9272 469.889 59.9619 474.886 Q54.9967 479.852 46.5303 479.852 Q37.7774 479.852 32.6531 475.141 Q27.4968 470.399 27.4968 462.378 Q27.4968 455.185 32.1438 451.015 Q36.7589 446.814 44.7161 446.814 M42.9973 452.67 Q38.1912 452.734 35.3266 455.376 Q32.4621 457.985 32.4621 462.314 Q32.4621 467.216 35.2312 470.176 Q38.0002 473.104 43.0292 473.55 L42.9973 452.67 Z\" fill=\"#000000\" fill-rule=\"nonzero\" fill-opacity=\"1\" /><path clip-path=\"url(#clip030)\" d=\"M45.7664 413.744 Q39.4007 413.744 35.8996 416.386 Q32.3984 418.995 32.3984 423.738 Q32.3984 428.449 35.8996 431.09 Q39.4007 433.7 45.7664 433.7 Q52.1003 433.7 55.6014 431.09 Q59.1026 428.449 59.1026 423.738 Q59.1026 418.995 55.6014 416.386 Q52.1003 413.744 45.7664 413.744 M59.58 407.887 Q68.683 407.887 73.1071 411.93 Q77.5631 415.972 77.5631 424.311 Q77.5631 427.398 77.0857 430.135 Q76.6401 432.873 75.6852 435.451 L69.9879 435.451 Q71.3884 432.873 72.0568 430.358 Q72.7252 427.844 72.7252 425.234 Q72.7252 419.473 69.7015 416.608 Q66.7096 413.744 60.6303 413.744 L57.7339 413.744 Q60.885 415.558 62.4446 418.391 Q64.0042 421.223 64.0042 425.17 Q64.0042 431.727 59.0071 435.737 Q54.01 439.748 45.7664 439.748 Q37.491 439.748 32.4939 435.737 Q27.4968 431.727 27.4968 425.17 Q27.4968 421.223 29.0564 418.391 Q30.616 415.558 33.7671 413.744 L28.3562 413.744 L28.3562 407.887 L59.58 407.887 Z\" fill=\"#000000\" fill-rule=\"nonzero\" fill-opacity=\"1\" /><path clip-path=\"url(#clip030)\" d=\"M44.7161 365.333 L47.5806 365.333 L47.5806 392.26 Q53.6281 391.878 56.8109 388.631 Q59.9619 385.353 59.9619 379.528 Q59.9619 376.154 59.1344 373.003 Q58.3069 369.82 56.6518 366.701 L62.1899 366.701 Q63.5267 369.852 64.227 373.162 Q64.9272 376.473 64.9272 379.878 Q64.9272 388.408 59.9619 393.405 Q54.9967 398.371 46.5303 398.371 Q37.7774 398.371 32.6531 393.66 Q27.4968 388.918 27.4968 380.897 Q27.4968 373.703 32.1438 369.534 Q36.7589 365.333 44.7161 365.333 M42.9973 371.189 Q38.1912 371.253 35.3266 373.894 Q32.4621 376.504 32.4621 380.833 Q32.4621 385.735 35.2312 388.695 Q38.0002 391.623 43.0292 392.069 L42.9973 371.189 Z\" fill=\"#000000\" fill-rule=\"nonzero\" fill-opacity=\"1\" /><path clip-path=\"url(#clip030)\" d=\"M33.8307 335.064 Q33.2578 336.05 33.0032 337.228 Q32.7167 338.374 32.7167 339.774 Q32.7167 344.74 35.9632 347.413 Q39.1779 350.055 45.2253 350.055 L64.0042 350.055 L64.0042 355.943 L28.3562 355.943 L28.3562 350.055 L33.8944 350.055 Q30.6479 348.209 29.0883 345.249 Q27.4968 342.289 27.4968 338.056 Q27.4968 337.451 27.5923 336.719 Q27.656 335.987 27.8151 335.095 L33.8307 335.064 Z\" fill=\"#000000\" fill-rule=\"nonzero\" fill-opacity=\"1\" /><polyline clip-path=\"url(#clip032)\" style=\"stroke:#009af9; stroke-linecap:round; stroke-linejoin:round; stroke-width:4; stroke-opacity:1; fill:none\" points=\"264.778,86.1857 467.495,553.485 670.211,916.939 872.927,1176.55 1075.64,1332.32 1278.36,1384.24 1481.08,1332.32 1683.79,1176.55 1886.51,916.939 2089.22,553.485 2291.94,86.1857 \"/>\n",
              "</svg>\n"
            ]
          },
          "metadata": {},
          "output_type": "display_data"
        }
      ],
      "source": [
        "# insert your code here\n",
        "using Plots\n",
        "\n",
        "function square(x)\n",
        "    output = x.^2\n",
        "        \n",
        "    plot(output, legend=false)\n",
        "    xlabel!(\"Integer\")\n",
        "    ylabel!(\"Value of squared integer\")\n",
        "\n",
        "end\n",
        "\n",
        "square([-5,-4,-3,-2,-1,0,1,2,3,4,5])"
      ]
    },
    {
      "cell_type": "markdown",
      "id": "eaca6031-e691-4019-9986-e7127b3df842",
      "metadata": {},
      "source": [
        "## Commit and Push Your Changes to GitHub\n",
        "\n",
        "After completing the previous two exercises, commit your solution file\n",
        "(notebook or otherwise) and push to GitHub. Use an informative commit\n",
        "message which makes it clear what changes you’ve made. The specific\n",
        "workflow for this will vary depending on how you’re writing up your\n",
        "solutions; please search for specifics and ask for help as needed!\n",
        "\n",
        "> **Useful Commit Sizes**\n",
        ">\n",
        "> Ideally, you’d commit whenever you make a “substantial” enough change\n",
        "> that you want to lock in, such as writing the core code for a problem\n",
        "> or completing a problem, if you’re preparing code to be used elsewhere\n",
        "> (by yourself or others), or if you want to ask for help. `git` lets\n",
        "> you revert changes back to a previous commit, so it’s easy to undo\n",
        "> changes or updates which broke something that was previously working,\n",
        "> so changing too many things at once can make it hard to keep track of\n",
        "> what worked when.\n",
        ">\n",
        "> But in this case, go ahead and just commit after finishing the\n",
        "> problems.\n",
        "\n",
        "Push the repository with these commits to GitHub and take a screenshot\n",
        "of the repository page\n",
        "(`https://github.com/BEE4750-FA24/<username>/lab01`) which shows the\n",
        "updated repository. Include that screenshot in your submission as the\n",
        "solution to this problem.\n",
        "\n",
        "## Submitting PDF\n",
        "\n",
        "> **Important**\n",
        ">\n",
        "> These submission instructions will not be repeated on future\n",
        "> assignments!\n",
        "\n",
        "Export your writeup as a PDF and submit it to the “Lab 1” assignment on\n",
        "Gradescope. Make sure that you tag pages corresponding to relevant\n",
        "problems to avoid a 10% penalty.\n",
        "\n",
        "> **Printing Code to PDF**\n",
        ">\n",
        "> You are not required to submit your code when submitting assignments.\n",
        "> However, when printing a notebook to PDF, long lines will run off the\n",
        "> edge of code cells, which may result in comments or code being hidden.\n",
        "> If you see this, go back to the notebook and break up long lines into\n",
        "> shorter onces (for example, see the comment in the above code cell) to\n",
        "> ensure key parts of your results aren’t missing."
      ]
    }
  ],
  "metadata": {
    "kernel_info": {
      "name": "julia"
    },
    "kernelspec": {
      "display_name": "Julia 1.10.4",
      "language": "julia",
      "name": "julia-1.10"
    },
    "language_info": {
      "file_extension": ".jl",
      "mimetype": "application/julia",
      "name": "julia",
      "version": "1.10.4"
    }
  },
  "nbformat": 4,
  "nbformat_minor": 5
}
